{
 "cells": [
  {
   "cell_type": "code",
   "execution_count": 1,
   "id": "5c420311",
   "metadata": {},
   "outputs": [],
   "source": [
    "import pandas as pd\n",
    "import numpy as np\n",
    "import seaborn as sns\n",
    "import matplotlib.pyplot as plt"
   ]
  },
  {
   "cell_type": "code",
   "execution_count": 2,
   "id": "2baff62c",
   "metadata": {},
   "outputs": [
    {
     "data": {
      "text/html": [
       "<div>\n",
       "<style scoped>\n",
       "    .dataframe tbody tr th:only-of-type {\n",
       "        vertical-align: middle;\n",
       "    }\n",
       "\n",
       "    .dataframe tbody tr th {\n",
       "        vertical-align: top;\n",
       "    }\n",
       "\n",
       "    .dataframe thead th {\n",
       "        text-align: right;\n",
       "    }\n",
       "</style>\n",
       "<table border=\"1\" class=\"dataframe\">\n",
       "  <thead>\n",
       "    <tr style=\"text-align: right;\">\n",
       "      <th></th>\n",
       "      <th>House Number</th>\n",
       "      <th>Street</th>\n",
       "      <th>First Name</th>\n",
       "      <th>Surname</th>\n",
       "      <th>Age</th>\n",
       "      <th>Relationship to Head of House</th>\n",
       "      <th>Marital Status</th>\n",
       "      <th>Gender</th>\n",
       "      <th>Occupation</th>\n",
       "      <th>Infirmity</th>\n",
       "      <th>Religion</th>\n",
       "    </tr>\n",
       "  </thead>\n",
       "  <tbody>\n",
       "    <tr>\n",
       "      <th>0</th>\n",
       "      <td>1</td>\n",
       "      <td>Orry Row</td>\n",
       "      <td>Gerald</td>\n",
       "      <td>Evans</td>\n",
       "      <td>66.0</td>\n",
       "      <td>Head</td>\n",
       "      <td>Single</td>\n",
       "      <td>Male</td>\n",
       "      <td>Editor, magazine features</td>\n",
       "      <td>None</td>\n",
       "      <td>Catholic</td>\n",
       "    </tr>\n",
       "    <tr>\n",
       "      <th>1</th>\n",
       "      <td>2</td>\n",
       "      <td>Orry Row</td>\n",
       "      <td>Frances</td>\n",
       "      <td>O'Connor</td>\n",
       "      <td>39.0</td>\n",
       "      <td>Head</td>\n",
       "      <td>Single</td>\n",
       "      <td>Female</td>\n",
       "      <td>Games developer</td>\n",
       "      <td>None</td>\n",
       "      <td>Christian</td>\n",
       "    </tr>\n",
       "    <tr>\n",
       "      <th>2</th>\n",
       "      <td>2</td>\n",
       "      <td>Orry Row</td>\n",
       "      <td>Harry</td>\n",
       "      <td>O'Connor</td>\n",
       "      <td>7.0</td>\n",
       "      <td>Son</td>\n",
       "      <td>NaN</td>\n",
       "      <td>Male</td>\n",
       "      <td>Student</td>\n",
       "      <td>None</td>\n",
       "      <td>NaN</td>\n",
       "    </tr>\n",
       "    <tr>\n",
       "      <th>3</th>\n",
       "      <td>2</td>\n",
       "      <td>Orry Row</td>\n",
       "      <td>Pamela</td>\n",
       "      <td>O'Connor</td>\n",
       "      <td>4.0</td>\n",
       "      <td>Daughter</td>\n",
       "      <td>NaN</td>\n",
       "      <td>Female</td>\n",
       "      <td>Child</td>\n",
       "      <td>None</td>\n",
       "      <td>NaN</td>\n",
       "    </tr>\n",
       "    <tr>\n",
       "      <th>4</th>\n",
       "      <td>3</td>\n",
       "      <td>Orry Row</td>\n",
       "      <td>Derek</td>\n",
       "      <td>Ali</td>\n",
       "      <td>54.0</td>\n",
       "      <td>Head</td>\n",
       "      <td>Married</td>\n",
       "      <td>Male</td>\n",
       "      <td>Dancer</td>\n",
       "      <td>None</td>\n",
       "      <td>Christian</td>\n",
       "    </tr>\n",
       "    <tr>\n",
       "      <th>...</th>\n",
       "      <td>...</td>\n",
       "      <td>...</td>\n",
       "      <td>...</td>\n",
       "      <td>...</td>\n",
       "      <td>...</td>\n",
       "      <td>...</td>\n",
       "      <td>...</td>\n",
       "      <td>...</td>\n",
       "      <td>...</td>\n",
       "      <td>...</td>\n",
       "      <td>...</td>\n",
       "    </tr>\n",
       "    <tr>\n",
       "      <th>10475</th>\n",
       "      <td>1</td>\n",
       "      <td>Lewis Abbey</td>\n",
       "      <td>Annette</td>\n",
       "      <td>Kemp</td>\n",
       "      <td>41.0</td>\n",
       "      <td>Head</td>\n",
       "      <td>Widowed</td>\n",
       "      <td>Female</td>\n",
       "      <td>Unemployed</td>\n",
       "      <td>None</td>\n",
       "      <td>None</td>\n",
       "    </tr>\n",
       "    <tr>\n",
       "      <th>10476</th>\n",
       "      <td>1</td>\n",
       "      <td>Lewis Abbey</td>\n",
       "      <td>Joshua</td>\n",
       "      <td>Kemp</td>\n",
       "      <td>9.0</td>\n",
       "      <td>Son</td>\n",
       "      <td>NaN</td>\n",
       "      <td>Male</td>\n",
       "      <td>Student</td>\n",
       "      <td>None</td>\n",
       "      <td>NaN</td>\n",
       "    </tr>\n",
       "    <tr>\n",
       "      <th>10477</th>\n",
       "      <td>1</td>\n",
       "      <td>Lewis Abbey</td>\n",
       "      <td>Graeme</td>\n",
       "      <td>Kemp</td>\n",
       "      <td>8.0</td>\n",
       "      <td>Son</td>\n",
       "      <td>NaN</td>\n",
       "      <td>Male</td>\n",
       "      <td>Student</td>\n",
       "      <td>None</td>\n",
       "      <td>NaN</td>\n",
       "    </tr>\n",
       "    <tr>\n",
       "      <th>10478</th>\n",
       "      <td>1</td>\n",
       "      <td>Lewis Abbey</td>\n",
       "      <td>Donald</td>\n",
       "      <td>Kemp</td>\n",
       "      <td>4.0</td>\n",
       "      <td>Son</td>\n",
       "      <td>NaN</td>\n",
       "      <td>Male</td>\n",
       "      <td>Child</td>\n",
       "      <td>None</td>\n",
       "      <td>NaN</td>\n",
       "    </tr>\n",
       "    <tr>\n",
       "      <th>10479</th>\n",
       "      <td>1</td>\n",
       "      <td>Lewis Abbey</td>\n",
       "      <td>Dylan</td>\n",
       "      <td>Kemp</td>\n",
       "      <td>3.0</td>\n",
       "      <td>Son</td>\n",
       "      <td>NaN</td>\n",
       "      <td>Male</td>\n",
       "      <td>Child</td>\n",
       "      <td>None</td>\n",
       "      <td>NaN</td>\n",
       "    </tr>\n",
       "  </tbody>\n",
       "</table>\n",
       "<p>10480 rows × 11 columns</p>\n",
       "</div>"
      ],
      "text/plain": [
       "      House Number       Street First Name   Surname   Age  \\\n",
       "0                1     Orry Row     Gerald     Evans  66.0   \n",
       "1                2     Orry Row    Frances  O'Connor  39.0   \n",
       "2                2     Orry Row      Harry  O'Connor   7.0   \n",
       "3                2     Orry Row     Pamela  O'Connor   4.0   \n",
       "4                3     Orry Row      Derek       Ali  54.0   \n",
       "...            ...          ...        ...       ...   ...   \n",
       "10475            1  Lewis Abbey    Annette      Kemp  41.0   \n",
       "10476            1  Lewis Abbey     Joshua      Kemp   9.0   \n",
       "10477            1  Lewis Abbey     Graeme      Kemp   8.0   \n",
       "10478            1  Lewis Abbey     Donald      Kemp   4.0   \n",
       "10479            1  Lewis Abbey      Dylan      Kemp   3.0   \n",
       "\n",
       "      Relationship to Head of House Marital Status  Gender  \\\n",
       "0                              Head         Single    Male   \n",
       "1                              Head         Single  Female   \n",
       "2                               Son            NaN    Male   \n",
       "3                          Daughter            NaN  Female   \n",
       "4                              Head        Married    Male   \n",
       "...                             ...            ...     ...   \n",
       "10475                          Head        Widowed  Female   \n",
       "10476                           Son            NaN    Male   \n",
       "10477                           Son            NaN    Male   \n",
       "10478                           Son            NaN    Male   \n",
       "10479                           Son            NaN    Male   \n",
       "\n",
       "                      Occupation Infirmity   Religion  \n",
       "0      Editor, magazine features      None   Catholic  \n",
       "1                Games developer      None  Christian  \n",
       "2                        Student      None        NaN  \n",
       "3                          Child      None        NaN  \n",
       "4                         Dancer      None  Christian  \n",
       "...                          ...       ...        ...  \n",
       "10475                 Unemployed      None       None  \n",
       "10476                    Student      None        NaN  \n",
       "10477                    Student      None        NaN  \n",
       "10478                      Child      None        NaN  \n",
       "10479                      Child      None        NaN  \n",
       "\n",
       "[10480 rows x 11 columns]"
      ]
     },
     "execution_count": 2,
     "metadata": {},
     "output_type": "execute_result"
    }
   ],
   "source": [
    "df=pd.read_csv('census_05.csv') # how is the data arranged?\n",
    "df"
   ]
  },
  {
   "cell_type": "code",
   "execution_count": 3,
   "id": "ab236b5a",
   "metadata": {},
   "outputs": [
    {
     "name": "stdout",
     "output_type": "stream",
     "text": [
      "<class 'pandas.core.frame.DataFrame'>\n",
      "RangeIndex: 10480 entries, 0 to 10479\n",
      "Data columns (total 11 columns):\n",
      " #   Column                         Non-Null Count  Dtype  \n",
      "---  ------                         --------------  -----  \n",
      " 0   House Number                   10479 non-null  object \n",
      " 1   Street                         10480 non-null  object \n",
      " 2   First Name                     10480 non-null  object \n",
      " 3   Surname                        10480 non-null  object \n",
      " 4   Age                            10480 non-null  float64\n",
      " 5   Relationship to Head of House  10480 non-null  object \n",
      " 6   Marital Status                 8054 non-null   object \n",
      " 7   Gender                         10480 non-null  object \n",
      " 8   Occupation                     10480 non-null  object \n",
      " 9   Infirmity                      10480 non-null  object \n",
      " 10  Religion                       7986 non-null   object \n",
      "dtypes: float64(1), object(10)\n",
      "memory usage: 900.8+ KB\n"
     ]
    }
   ],
   "source": [
    "df.info()"
   ]
  },
  {
   "cell_type": "code",
   "execution_count": 4,
   "id": "1d54d2ac",
   "metadata": {},
   "outputs": [
    {
     "data": {
      "text/plain": [
       "(10480, 11)"
      ]
     },
     "execution_count": 4,
     "metadata": {},
     "output_type": "execute_result"
    }
   ],
   "source": [
    "df.shape"
   ]
  },
  {
   "cell_type": "code",
   "execution_count": 5,
   "id": "b3589ca6",
   "metadata": {},
   "outputs": [
    {
     "data": {
      "text/plain": [
       "House Number                        1\n",
       "Street                              0\n",
       "First Name                          0\n",
       "Surname                             0\n",
       "Age                                 0\n",
       "Relationship to Head of House       0\n",
       "Marital Status                   2426\n",
       "Gender                              0\n",
       "Occupation                          0\n",
       "Infirmity                           0\n",
       "Religion                         2494\n",
       "dtype: int64"
      ]
     },
     "execution_count": 5,
     "metadata": {},
     "output_type": "execute_result"
    }
   ],
   "source": [
    "df.isnull().sum()"
   ]
  },
  {
   "cell_type": "code",
   "execution_count": 6,
   "id": "2618c555",
   "metadata": {},
   "outputs": [
    {
     "data": {
      "text/html": [
       "<div>\n",
       "<style scoped>\n",
       "    .dataframe tbody tr th:only-of-type {\n",
       "        vertical-align: middle;\n",
       "    }\n",
       "\n",
       "    .dataframe tbody tr th {\n",
       "        vertical-align: top;\n",
       "    }\n",
       "\n",
       "    .dataframe thead th {\n",
       "        text-align: right;\n",
       "    }\n",
       "</style>\n",
       "<table border=\"1\" class=\"dataframe\">\n",
       "  <thead>\n",
       "    <tr style=\"text-align: right;\">\n",
       "      <th></th>\n",
       "      <th>Age</th>\n",
       "    </tr>\n",
       "  </thead>\n",
       "  <tbody>\n",
       "    <tr>\n",
       "      <th>count</th>\n",
       "      <td>10480.000000</td>\n",
       "    </tr>\n",
       "    <tr>\n",
       "      <th>mean</th>\n",
       "      <td>36.139563</td>\n",
       "    </tr>\n",
       "    <tr>\n",
       "      <th>std</th>\n",
       "      <td>21.573443</td>\n",
       "    </tr>\n",
       "    <tr>\n",
       "      <th>min</th>\n",
       "      <td>0.000000</td>\n",
       "    </tr>\n",
       "    <tr>\n",
       "      <th>25%</th>\n",
       "      <td>19.000000</td>\n",
       "    </tr>\n",
       "    <tr>\n",
       "      <th>50%</th>\n",
       "      <td>35.000000</td>\n",
       "    </tr>\n",
       "    <tr>\n",
       "      <th>75%</th>\n",
       "      <td>51.000000</td>\n",
       "    </tr>\n",
       "    <tr>\n",
       "      <th>max</th>\n",
       "      <td>106.000000</td>\n",
       "    </tr>\n",
       "  </tbody>\n",
       "</table>\n",
       "</div>"
      ],
      "text/plain": [
       "                Age\n",
       "count  10480.000000\n",
       "mean      36.139563\n",
       "std       21.573443\n",
       "min        0.000000\n",
       "25%       19.000000\n",
       "50%       35.000000\n",
       "75%       51.000000\n",
       "max      106.000000"
      ]
     },
     "execution_count": 6,
     "metadata": {},
     "output_type": "execute_result"
    }
   ],
   "source": [
    "df.describe()"
   ]
  },
  {
   "cell_type": "code",
   "execution_count": null,
   "id": "a4a96838",
   "metadata": {},
   "outputs": [],
   "source": []
  },
  {
   "cell_type": "code",
   "execution_count": 7,
   "id": "6bbdfb72",
   "metadata": {},
   "outputs": [
    {
     "data": {
      "text/plain": [
       "array(['1', '2', '3', '4', '5', '6', '7', '8', '9', '10', '11', '12',\n",
       "       '13', '14', '15', '16', '17', '18', '19', '20', '21', '22', '23',\n",
       "       '24', '25', '26', '27', '28', '29', '30', '31', '32', '33', '34',\n",
       "       '35', '36', '37', '38', '39', '40', '41', '42', '43', '44', '45',\n",
       "       '46', '47', '48', '49', '50', '51', '52', '53', '54', '55', ' ',\n",
       "       '56', '57', '58', '59', '60', '61', '62', '63', '64', '65', '66',\n",
       "       '67', '68', '69', '70', '71', '72', '73', '74', '75', '76', '77',\n",
       "       '78', '79', '80', '81', '82', '83', '84', '85', '86', '87', '88',\n",
       "       '89', '90', '91', '92', '93', '94', '95', '96', '97', '98', '99',\n",
       "       '100', '101', '102', '103', '104', '105', '106', '107', '108',\n",
       "       '109', '110', '111', '112', '113', '114', '115', '116', '117',\n",
       "       '118', '119', '120', '121', '122', '123', '124', '125', '126',\n",
       "       '127', '128', '129', '130', '131', '132', '133', '134', '135',\n",
       "       '136', '137', '138', '139', '140', '141', '142', '143', '144',\n",
       "       '145', '146', '147', '148', '149', '150', '151', '152', '153',\n",
       "       '154', '155', '156', '157', '158', '159', '160', '161', '162',\n",
       "       '163', '164', '165', '166', '167', '168', '169', '170', '171',\n",
       "       '172', '173', '174', '175', '176', '177', '178', '179', '180',\n",
       "       '181', '182', '183', '184', '185', '186', '187', '188', '189',\n",
       "       '190', '191', '192', '193', '194', '195', '196', '197', '198',\n",
       "       '199', '200', '201', '202', '203', '204', '205', '206', '207',\n",
       "       '208', '209', '210', '211', '212', '213', '214', '215', '216',\n",
       "       '217', '218', '219', '220', '221', '222', '223', '224', '225',\n",
       "       '226', '227', nan], dtype=object)"
      ]
     },
     "execution_count": 7,
     "metadata": {},
     "output_type": "execute_result"
    }
   ],
   "source": [
    "df['House Number'].unique()"
   ]
  },
  {
   "cell_type": "code",
   "execution_count": 8,
   "id": "32356393",
   "metadata": {},
   "outputs": [
    {
     "data": {
      "text/html": [
       "<div>\n",
       "<style scoped>\n",
       "    .dataframe tbody tr th:only-of-type {\n",
       "        vertical-align: middle;\n",
       "    }\n",
       "\n",
       "    .dataframe tbody tr th {\n",
       "        vertical-align: top;\n",
       "    }\n",
       "\n",
       "    .dataframe thead th {\n",
       "        text-align: right;\n",
       "    }\n",
       "</style>\n",
       "<table border=\"1\" class=\"dataframe\">\n",
       "  <thead>\n",
       "    <tr style=\"text-align: right;\">\n",
       "      <th></th>\n",
       "      <th>House Number</th>\n",
       "      <th>Street</th>\n",
       "      <th>First Name</th>\n",
       "      <th>Surname</th>\n",
       "      <th>Age</th>\n",
       "      <th>Relationship to Head of House</th>\n",
       "      <th>Marital Status</th>\n",
       "      <th>Gender</th>\n",
       "      <th>Occupation</th>\n",
       "      <th>Infirmity</th>\n",
       "      <th>Religion</th>\n",
       "    </tr>\n",
       "  </thead>\n",
       "  <tbody>\n",
       "    <tr>\n",
       "      <th>342</th>\n",
       "      <td></td>\n",
       "      <td>Miller Turnpike</td>\n",
       "      <td>Paige</td>\n",
       "      <td>Perry</td>\n",
       "      <td>39.0</td>\n",
       "      <td>Head</td>\n",
       "      <td>Married</td>\n",
       "      <td>Female</td>\n",
       "      <td>Nurse, learning disability</td>\n",
       "      <td>None</td>\n",
       "      <td>None</td>\n",
       "    </tr>\n",
       "    <tr>\n",
       "      <th>343</th>\n",
       "      <td></td>\n",
       "      <td>Miller Turnpike</td>\n",
       "      <td>Bradley</td>\n",
       "      <td>Perry</td>\n",
       "      <td>39.0</td>\n",
       "      <td>Husband</td>\n",
       "      <td>Married</td>\n",
       "      <td>Male</td>\n",
       "      <td>Building services engineer</td>\n",
       "      <td>None</td>\n",
       "      <td>None</td>\n",
       "    </tr>\n",
       "    <tr>\n",
       "      <th>344</th>\n",
       "      <td></td>\n",
       "      <td>Miller Turnpike</td>\n",
       "      <td>Ryan</td>\n",
       "      <td>Perry</td>\n",
       "      <td>20.0</td>\n",
       "      <td>Son</td>\n",
       "      <td>Single</td>\n",
       "      <td>Male</td>\n",
       "      <td>University Student</td>\n",
       "      <td>None</td>\n",
       "      <td>None</td>\n",
       "    </tr>\n",
       "    <tr>\n",
       "      <th>345</th>\n",
       "      <td></td>\n",
       "      <td>Miller Turnpike</td>\n",
       "      <td>Gemma</td>\n",
       "      <td>Perry</td>\n",
       "      <td>0.0</td>\n",
       "      <td>Daughter</td>\n",
       "      <td>NaN</td>\n",
       "      <td>Female</td>\n",
       "      <td>Child</td>\n",
       "      <td>None</td>\n",
       "      <td>NaN</td>\n",
       "    </tr>\n",
       "  </tbody>\n",
       "</table>\n",
       "</div>"
      ],
      "text/plain": [
       "    House Number           Street First Name Surname   Age  \\\n",
       "342               Miller Turnpike      Paige   Perry  39.0   \n",
       "343               Miller Turnpike    Bradley   Perry  39.0   \n",
       "344               Miller Turnpike       Ryan   Perry  20.0   \n",
       "345               Miller Turnpike      Gemma   Perry   0.0   \n",
       "\n",
       "    Relationship to Head of House Marital Status  Gender  \\\n",
       "342                          Head        Married  Female   \n",
       "343                       Husband        Married    Male   \n",
       "344                           Son         Single    Male   \n",
       "345                      Daughter            NaN  Female   \n",
       "\n",
       "                     Occupation Infirmity Religion  \n",
       "342  Nurse, learning disability      None     None  \n",
       "343  Building services engineer      None     None  \n",
       "344          University Student      None     None  \n",
       "345                       Child      None      NaN  "
      ]
     },
     "execution_count": 8,
     "metadata": {},
     "output_type": "execute_result"
    }
   ],
   "source": [
    "df.loc[df['House Number']== ' ']"
   ]
  },
  {
   "cell_type": "code",
   "execution_count": 9,
   "id": "19cf7721",
   "metadata": {},
   "outputs": [],
   "source": [
    "df.at[342, 'House Number']='13'\n",
    "df.at[343, 'House Number']='13'\n",
    "df.at[344, 'House Number']='13'\n",
    "df.at[345, 'House Number']='13'\n",
    "\n",
    "# df.dropna(subset=['House Number'],inplace=True).. how to drop column"
   ]
  },
  {
   "cell_type": "code",
   "execution_count": 10,
   "id": "32725955",
   "metadata": {},
   "outputs": [],
   "source": [
    "df['House Number'].replace(np.nan, '24', inplace=True)"
   ]
  },
  {
   "cell_type": "code",
   "execution_count": 11,
   "id": "5476a87d",
   "metadata": {},
   "outputs": [
    {
     "data": {
      "text/html": [
       "<div>\n",
       "<style scoped>\n",
       "    .dataframe tbody tr th:only-of-type {\n",
       "        vertical-align: middle;\n",
       "    }\n",
       "\n",
       "    .dataframe tbody tr th {\n",
       "        vertical-align: top;\n",
       "    }\n",
       "\n",
       "    .dataframe thead th {\n",
       "        text-align: right;\n",
       "    }\n",
       "</style>\n",
       "<table border=\"1\" class=\"dataframe\">\n",
       "  <thead>\n",
       "    <tr style=\"text-align: right;\">\n",
       "      <th></th>\n",
       "      <th>House Number</th>\n",
       "      <th>Street</th>\n",
       "      <th>First Name</th>\n",
       "      <th>Surname</th>\n",
       "      <th>Age</th>\n",
       "      <th>Relationship to Head of House</th>\n",
       "      <th>Marital Status</th>\n",
       "      <th>Gender</th>\n",
       "      <th>Occupation</th>\n",
       "      <th>Infirmity</th>\n",
       "      <th>Religion</th>\n",
       "    </tr>\n",
       "  </thead>\n",
       "  <tbody>\n",
       "  </tbody>\n",
       "</table>\n",
       "</div>"
      ],
      "text/plain": [
       "Empty DataFrame\n",
       "Columns: [House Number, Street, First Name, Surname, Age, Relationship to Head of House, Marital Status, Gender, Occupation, Infirmity, Religion]\n",
       "Index: []"
      ]
     },
     "execution_count": 11,
     "metadata": {},
     "output_type": "execute_result"
    }
   ],
   "source": [
    "df[df['House Number'].isnull()]"
   ]
  },
  {
   "cell_type": "code",
   "execution_count": 12,
   "id": "12463941",
   "metadata": {},
   "outputs": [],
   "source": [
    "df['House Number'].replace(np.nan, '24', inplace=True)"
   ]
  },
  {
   "cell_type": "code",
   "execution_count": null,
   "id": "a5bc1e67",
   "metadata": {
    "scrolled": true
   },
   "outputs": [],
   "source": []
  },
  {
   "cell_type": "code",
   "execution_count": 13,
   "id": "40a5f35b",
   "metadata": {},
   "outputs": [
    {
     "data": {
      "text/plain": [
       "array(['Orry Row', 'Ford Throughway', 'Miller Turnpike',\n",
       "       'Fountain Street', 'Outer Neck', 'Kingcross Drive',\n",
       "       'Richards Mills', 'October Road', 'Parkin Vista',\n",
       "       'Northumberland Avenue', 'Birmingham Road', 'Thomson Neck',\n",
       "       'Institution Road', 'James Street', 'Hovetag Lane', 'Bath Branch',\n",
       "       ' ', 'Kelly Circle', 'Hedgehog Lane', 'Knight Lodge', 'North Mews',\n",
       "       'Clementine Field', 'Hall Avenue', 'Summers Drive', 'Watts Lane',\n",
       "       'Autumn Shoal', 'Newcastle Isle', 'June Road', 'Bailey Islands',\n",
       "       'Mason Forges', 'Windy Parkways', 'Ryan Lane', 'Thomas Greens',\n",
       "       'Harris Passage', 'St.John Crest', 'Hill Drive', 'Horton Drive',\n",
       "       'Watson Loaf', 'Chelmsford Ridge', 'Paper Junction', 'Jarvis Road',\n",
       "       'Duchess Road', 'Ash Estates', 'Williams Avenue', 'Yucca Mission',\n",
       "       'Hill Avenue', 'Blackclub Road', 'Conifer Island', 'Kelly Pass',\n",
       "       'Cinnamonclub Street', 'Bassenthwaite Forks', 'Jenkins Divide',\n",
       "       'Hart Fort', 'Sheppard Avenue', 'Moore Pike', 'Leisureskip Road',\n",
       "       'Hedgehog Junction', 'Taurusportal Street', 'Elephant Street',\n",
       "       'Elephant St', 'St.John Estate', 'Fletcher Crossroad',\n",
       "       'Landings Street', 'Cooper Avenue', 'Dragons Prairie',\n",
       "       'Monkban Drive', 'Brown Avenue', 'Williams Ridges',\n",
       "       'Pilgrim Ports', 'Burns Road', 'Newfound Corner', 'Arch Avenue',\n",
       "       'Bangor Lane', 'Madrid Road', 'Liverpool Island', 'Webster Estate',\n",
       "       'Hull Drive', 'Evans Drive', 'Toucan Trail', 'Causeway Avenue',\n",
       "       'Alba Keys', 'CherryChestnut Inlet', 'Coventry Causeway',\n",
       "       'Fountain Viaduct', 'Williams Junctions', 'Shrine Well',\n",
       "       'Wilson Trafficway', 'Kerr Lane', 'Chester Lane', 'Foster Course',\n",
       "       'Butcher Glen', 'Williams Road', 'London Abbey',\n",
       "       'Halfcrown Factory', 'Swift Chalet', 'White Institute',\n",
       "       'Smith Fortress', 'Mills Fortress', 'Long Keep', 'Griffiths Cabin',\n",
       "       'Burton Obervatory', 'Winchester Spire', 'Pendragon Lodge',\n",
       "       'North Citadel', 'Marsh Commune', 'Evans Villa', 'Lewis Abbey'],\n",
       "      dtype=object)"
      ]
     },
     "execution_count": 13,
     "metadata": {},
     "output_type": "execute_result"
    }
   ],
   "source": [
    "df['Street'].unique()"
   ]
  },
  {
   "cell_type": "code",
   "execution_count": 14,
   "id": "ccdc3c2f",
   "metadata": {},
   "outputs": [
    {
     "data": {
      "text/html": [
       "<div>\n",
       "<style scoped>\n",
       "    .dataframe tbody tr th:only-of-type {\n",
       "        vertical-align: middle;\n",
       "    }\n",
       "\n",
       "    .dataframe tbody tr th {\n",
       "        vertical-align: top;\n",
       "    }\n",
       "\n",
       "    .dataframe thead th {\n",
       "        text-align: right;\n",
       "    }\n",
       "</style>\n",
       "<table border=\"1\" class=\"dataframe\">\n",
       "  <thead>\n",
       "    <tr style=\"text-align: right;\">\n",
       "      <th></th>\n",
       "      <th>House Number</th>\n",
       "      <th>Street</th>\n",
       "      <th>First Name</th>\n",
       "      <th>Surname</th>\n",
       "      <th>Age</th>\n",
       "      <th>Relationship to Head of House</th>\n",
       "      <th>Marital Status</th>\n",
       "      <th>Gender</th>\n",
       "      <th>Occupation</th>\n",
       "      <th>Infirmity</th>\n",
       "      <th>Religion</th>\n",
       "    </tr>\n",
       "  </thead>\n",
       "  <tbody>\n",
       "    <tr>\n",
       "      <th>937</th>\n",
       "      <td>5</td>\n",
       "      <td></td>\n",
       "      <td>Jonathan</td>\n",
       "      <td>Davies-Kelly</td>\n",
       "      <td>0.0</td>\n",
       "      <td>Son</td>\n",
       "      <td>NaN</td>\n",
       "      <td>Male</td>\n",
       "      <td>Child</td>\n",
       "      <td>None</td>\n",
       "      <td>NaN</td>\n",
       "    </tr>\n",
       "  </tbody>\n",
       "</table>\n",
       "</div>"
      ],
      "text/plain": [
       "    House Number Street First Name       Surname  Age  \\\n",
       "937            5          Jonathan  Davies-Kelly  0.0   \n",
       "\n",
       "    Relationship to Head of House Marital Status Gender Occupation Infirmity  \\\n",
       "937                           Son            NaN   Male      Child      None   \n",
       "\n",
       "    Religion  \n",
       "937      NaN  "
      ]
     },
     "execution_count": 14,
     "metadata": {},
     "output_type": "execute_result"
    }
   ],
   "source": [
    "df.loc[df['Street']== ' ']"
   ]
  },
  {
   "cell_type": "code",
   "execution_count": 15,
   "id": "15df52c8",
   "metadata": {},
   "outputs": [],
   "source": [
    "df.at[937, 'Street']='Bath Branch'"
   ]
  },
  {
   "cell_type": "code",
   "execution_count": null,
   "id": "947509d3",
   "metadata": {},
   "outputs": [],
   "source": []
  },
  {
   "cell_type": "code",
   "execution_count": 16,
   "id": "bbb3cf79",
   "metadata": {},
   "outputs": [
    {
     "data": {
      "text/plain": [
       "array(['Gerald', 'Frances', 'Harry', 'Pamela', 'Derek', 'Natasha',\n",
       "       'Gregory', 'Jayne', 'Danny', 'Clare', 'Frederick', 'Leslie',\n",
       "       'Helen', 'Alex', 'Charlotte', 'Conor', 'Bethany', 'Naomi', 'Leah',\n",
       "       'Jake', 'Scott', 'Alan', 'Amber', 'Carol', 'Robin', 'Stephanie',\n",
       "       'Wayne', 'Jane', 'Elliott', 'Natalie', 'Olivia', 'Emily',\n",
       "       'Lawrence', 'Shirley', 'Liam', 'Catherine', 'Anthony', 'Paul',\n",
       "       'Andrea', 'Lewis', 'Joyce', 'Robert', 'Clive', 'Sharon', 'Rosie',\n",
       "       'Gail', 'Marcus', 'Russell', 'Ashleigh', 'Zoe', 'Ruth', 'Samuel',\n",
       "       'Joan', 'Patrick', 'Denise', 'Glenn', 'Jenna', 'Joel', 'Jade',\n",
       "       'Hilary', 'Norman', 'Suzanne', 'Arthur', 'Stacey', 'Lynne', 'Eric',\n",
       "       'Annette', 'Cameron', 'Sian', 'Kerry', 'Joshua', 'Mohammad',\n",
       "       'Iain', 'Douglas', 'Sophie', 'Leonard', 'Holly', 'Hugh', 'Valerie',\n",
       "       'Victoria', 'Maria', 'Bruce', 'Kim', 'Joe', 'Melissa', 'Tracy',\n",
       "       'Fiona', 'Mohammed', 'Lindsey', 'Lynda', 'Lucy', 'Roy', 'Laura',\n",
       "       'Aaron', 'Max', 'Samantha', 'Nicholas', 'Stanley', 'Teresa',\n",
       "       'Shane', 'Reece', 'Michael', 'Oliver', 'Christian', 'Georgia',\n",
       "       'Leon', 'Geraldine', 'Justin', 'James', 'Gary', 'Alice', 'Carl',\n",
       "       'Clifford', 'Luke', 'Sara', 'Pauline', 'Ian', 'Wendy', 'Bethan',\n",
       "       'Carolyn', 'Abdul', 'Brandon', 'Molly', 'Debra', 'Mohamed',\n",
       "       'Hayley', 'Tom', 'Neil', 'Antony', 'Allan', 'Karl', 'Roger',\n",
       "       'Terry', 'Martin', 'Jean', 'Margaret', 'Diane', 'Andrew', 'Jeremy',\n",
       "       'Charlene', 'Jacob', 'Irene', 'Paula', 'Christine', 'Marion',\n",
       "       'Chelsea', 'Aimee', 'Donald', 'Duncan', 'Martyn', 'Simon',\n",
       "       'Tracey', 'Dennis', 'Victor', 'Jessica', 'Kate', 'Harriet',\n",
       "       'Jamie', 'Jeffrey', 'Joseph', 'John', 'Nigel', 'Adam', 'Gerard',\n",
       "       'Vincent', 'Brian', 'Megan', 'Nicole', 'Darren', 'Kathleen',\n",
       "       'Amanda', 'Shannon', 'Vanessa', 'Gillian', 'Ellie', 'Josh', 'Tony',\n",
       "       'Karen', 'Amy', 'Beth', 'Brett', 'Stephen', 'Donna', 'Billy',\n",
       "       'Gordon', 'Janice', 'Rita', 'Geoffrey', 'Ben', 'Graham',\n",
       "       'Jennifer', 'William', 'Sylvia', 'Carole', 'Maureen', 'Kayleigh',\n",
       "       'Ann', 'Barry', 'Elliot', 'Joanna', 'Nicola', 'Jack', 'Jemma',\n",
       "       'Joanne', 'Ronald', 'Katy', 'Danielle', 'Eleanor', 'Judith',\n",
       "       'Ryan', 'Jodie', 'Hannah', 'Leanne', 'Susan', 'Alexandra', 'Dale',\n",
       "       'Shaun', 'Sarah', 'Lydia', 'Leigh', 'Albert', 'Alexander', 'Paige',\n",
       "       'Bradley', 'Gemma', 'Lee', 'Dylan', 'Sam', 'Jason', 'Nathan',\n",
       "       'Louise', 'Richard', 'Jacqueline', 'Adrian', 'Rachel', 'Carly',\n",
       "       'Kelly', 'Jonathan', 'Sean', 'Steven', 'Angela', 'Ricky',\n",
       "       'Francis', 'Dean', 'Gavin', 'Chloe', 'Barbara', 'Declan',\n",
       "       'Lorraine', 'Garry', 'Daniel', 'Eileen', 'Connor', 'Owen',\n",
       "       'Julian', 'Bernard', 'Deborah', 'June', 'Maurice', 'Benjamin',\n",
       "       'Heather', 'Beverley', 'Caroline', 'Patricia', 'Dorothy', 'Sandra',\n",
       "       'Keith', 'Diana', 'Edward', 'Trevor', 'Mary', 'Jill', 'Rebecca',\n",
       "       'David', 'Stuart', 'Mandy', 'Colin', 'Sally', 'Thomas', 'Elaine',\n",
       "       'Peter', 'Henry', 'Amelia', 'George', 'Rachael', 'Bryan', 'Alison',\n",
       "       'Julie', 'Marilyn', 'Stewart', 'Abigail', 'Brenda', 'Yvonne',\n",
       "       'Hazel', 'Lauren', 'Guy', 'Melanie', 'Tina', 'Hollie', 'Denis',\n",
       "       'Kathryn', 'Marie', 'Elizabeth', 'Francesca', 'Linda', 'Phillip',\n",
       "       'Rosemary', 'Josephine', 'Sheila', 'Craig', 'Katie', 'Terence',\n",
       "       'Ashley', 'Kevin', 'Katherine', 'Marian', 'Timothy', 'Anne',\n",
       "       'Kimberley', 'Christopher', 'Julia', 'Howard', 'Jay', 'Malcolm',\n",
       "       'Anna', 'Jasmine', 'Kirsty', 'Glen', 'Lesley', 'Dawn', 'Matthew',\n",
       "       'Callum', 'Lisa', 'Mitchell', 'Georgina', 'Damien', 'Marc', 'Mark',\n",
       "       'Lynn', 'Abbie', 'Philip', 'Janet', 'Louis', 'Mathew', 'Graeme',\n",
       "       ' ', 'Rhys', 'Charlie', 'Dominic', 'Damian', 'Claire', 'Raymond',\n",
       "       'Grace', 'Frank', 'Ross', 'Toby', 'Michelle', 'Emma', 'Kyle',\n",
       "       'Kenneth', 'Jordan', 'Kieran', 'Gareth', 'Cheryl', 'Charles'],\n",
       "      dtype=object)"
      ]
     },
     "execution_count": 16,
     "metadata": {},
     "output_type": "execute_result"
    }
   ],
   "source": [
    "df['First Name'].unique()"
   ]
  },
  {
   "cell_type": "code",
   "execution_count": 17,
   "id": "c804bdfe",
   "metadata": {},
   "outputs": [
    {
     "data": {
      "text/html": [
       "<div>\n",
       "<style scoped>\n",
       "    .dataframe tbody tr th:only-of-type {\n",
       "        vertical-align: middle;\n",
       "    }\n",
       "\n",
       "    .dataframe tbody tr th {\n",
       "        vertical-align: top;\n",
       "    }\n",
       "\n",
       "    .dataframe thead th {\n",
       "        text-align: right;\n",
       "    }\n",
       "</style>\n",
       "<table border=\"1\" class=\"dataframe\">\n",
       "  <thead>\n",
       "    <tr style=\"text-align: right;\">\n",
       "      <th></th>\n",
       "      <th>House Number</th>\n",
       "      <th>Street</th>\n",
       "      <th>First Name</th>\n",
       "      <th>Surname</th>\n",
       "      <th>Age</th>\n",
       "      <th>Relationship to Head of House</th>\n",
       "      <th>Marital Status</th>\n",
       "      <th>Gender</th>\n",
       "      <th>Occupation</th>\n",
       "      <th>Infirmity</th>\n",
       "      <th>Religion</th>\n",
       "    </tr>\n",
       "  </thead>\n",
       "  <tbody>\n",
       "    <tr>\n",
       "      <th>1191</th>\n",
       "      <td>24</td>\n",
       "      <td>Hedgehog Lane</td>\n",
       "      <td></td>\n",
       "      <td>Ryan</td>\n",
       "      <td>11.0</td>\n",
       "      <td>Daughter</td>\n",
       "      <td>NaN</td>\n",
       "      <td>Female</td>\n",
       "      <td>Student</td>\n",
       "      <td>None</td>\n",
       "      <td>NaN</td>\n",
       "    </tr>\n",
       "    <tr>\n",
       "      <th>1364</th>\n",
       "      <td>17</td>\n",
       "      <td>Clementine Field</td>\n",
       "      <td></td>\n",
       "      <td>Davidson</td>\n",
       "      <td>62.0</td>\n",
       "      <td>Husband</td>\n",
       "      <td>Married</td>\n",
       "      <td>Male</td>\n",
       "      <td>Ceramics designer</td>\n",
       "      <td>None</td>\n",
       "      <td>None</td>\n",
       "    </tr>\n",
       "    <tr>\n",
       "      <th>3325</th>\n",
       "      <td>91</td>\n",
       "      <td>Thomas Greens</td>\n",
       "      <td></td>\n",
       "      <td>Scott</td>\n",
       "      <td>43.0</td>\n",
       "      <td>None</td>\n",
       "      <td>Single</td>\n",
       "      <td>Female</td>\n",
       "      <td>Conservator, furniture</td>\n",
       "      <td>None</td>\n",
       "      <td>Christian</td>\n",
       "    </tr>\n",
       "    <tr>\n",
       "      <th>9033</th>\n",
       "      <td>127</td>\n",
       "      <td>Causeway Avenue</td>\n",
       "      <td></td>\n",
       "      <td>May</td>\n",
       "      <td>22.0</td>\n",
       "      <td>Head</td>\n",
       "      <td>Divorced</td>\n",
       "      <td>Female</td>\n",
       "      <td>Unemployed</td>\n",
       "      <td>None</td>\n",
       "      <td>None</td>\n",
       "    </tr>\n",
       "  </tbody>\n",
       "</table>\n",
       "</div>"
      ],
      "text/plain": [
       "     House Number            Street First Name   Surname   Age  \\\n",
       "1191           24     Hedgehog Lane                 Ryan  11.0   \n",
       "1364           17  Clementine Field             Davidson  62.0   \n",
       "3325           91     Thomas Greens                Scott  43.0   \n",
       "9033          127   Causeway Avenue                  May  22.0   \n",
       "\n",
       "     Relationship to Head of House Marital Status  Gender  \\\n",
       "1191                      Daughter            NaN  Female   \n",
       "1364                       Husband        Married    Male   \n",
       "3325                          None         Single  Female   \n",
       "9033                          Head       Divorced  Female   \n",
       "\n",
       "                  Occupation Infirmity   Religion  \n",
       "1191                 Student      None        NaN  \n",
       "1364       Ceramics designer      None       None  \n",
       "3325  Conservator, furniture      None  Christian  \n",
       "9033              Unemployed      None       None  "
      ]
     },
     "execution_count": 17,
     "metadata": {},
     "output_type": "execute_result"
    }
   ],
   "source": [
    "df.loc[df['First Name']== ' ']"
   ]
  },
  {
   "cell_type": "code",
   "execution_count": 18,
   "id": "09f1c103",
   "metadata": {},
   "outputs": [],
   "source": [
    "df['First Name'].replace(' ','Unknown', inplace=True)"
   ]
  },
  {
   "cell_type": "code",
   "execution_count": null,
   "id": "2ca7b9d3",
   "metadata": {},
   "outputs": [],
   "source": []
  },
  {
   "cell_type": "code",
   "execution_count": 19,
   "id": "422507a0",
   "metadata": {},
   "outputs": [
    {
     "data": {
      "text/plain": [
       "array(['Evans', \"O'Connor\", 'Ali', 'Walker', 'Knight', 'Brady',\n",
       "       'Cunningham', 'Griffiths', 'Turnbull', 'Frost', 'Kirk', 'Peters',\n",
       "       'Fry', 'Marsh', 'West', 'Miah', 'Atkins', 'Barber', 'Blackburn',\n",
       "       'Davey', 'Brown', 'Nicholson', 'James', 'Stephenson',\n",
       "       'Lewis-Brown', 'Russell', 'Tyler', 'Reed', 'Ball', 'Duncan',\n",
       "       'Davies', 'Wallis', 'Bennett', 'King', 'Burton', 'Hill',\n",
       "       'Williams', 'Nixon', 'Thompson', 'Burgess', 'Bird', 'Tucker',\n",
       "       'Stanley', 'Mitchell', 'Shaw', 'Taylor', 'Saunders', 'Smith',\n",
       "       'Houghton', 'Harvey', 'Anderson', 'Wilson', 'Jennings', 'Walton',\n",
       "       'Sykes', 'Little', 'Stokes', 'Thomas', 'Hanson', 'Cole', 'Wood',\n",
       "       'Adams', 'Clark', 'Parry', 'Graham', 'Butler', 'Akhtar', 'Khan',\n",
       "       'Mills', 'Butcher', 'Harper', 'Pearson', 'Perry', 'Baker',\n",
       "       'Patterson', 'Bell', 'Simmons', 'Stone', 'Short', 'Norton',\n",
       "       'Gilbert', 'Scott', 'Patel', 'Page', 'Higgins', 'Jones', 'Hopkins',\n",
       "       'Kaur', 'Richardson', 'Matthews-Richardson', 'Joyce', 'Power',\n",
       "       'Knowles', 'Moss', 'Fowler', 'Francis', 'Collins', 'Edwards-Hart',\n",
       "       'Johnson', 'Moore', 'Edwards', 'Gibson', 'Riley', 'Fowler-Riley',\n",
       "       'Cook-Fowler-Riley', 'Connolly', 'Matthews', 'Young', 'Barrett',\n",
       "       'Fuller', 'Holden', 'Oliver', 'Humphries', 'Nicholls', 'Ross',\n",
       "       'Hilton', 'Chambers', 'Kelly', 'Nash', 'Cross', 'Arnold', 'Shah',\n",
       "       'Fox-Taylor', 'Vaughan', 'Owen', 'Miller', 'McDonald', 'Day',\n",
       "       'Newman', 'Carroll', 'Archer-Barber', 'Stevens', 'Howarth', 'Mann',\n",
       "       'Potter', 'Freeman', 'Freeman-Shah', 'Flynn', 'Stephens',\n",
       "       'Coleman-Stephens', 'Henry', 'Davis', 'Fisher', 'Randall', 'Wells',\n",
       "       'Hartley', 'Long', 'Jordan', 'Curtis', 'Wright', 'Ahmed', 'Pugh',\n",
       "       'Mellor', 'Webb', 'McKenzie', 'Crawford', 'Allan', 'Mason', 'Kemp',\n",
       "       'Lane', 'Jackson', 'Whittaker', 'Pratt', 'Fraser', 'Robinson',\n",
       "       'Quinn', 'Savage', 'Thomson', 'Talbot', 'Gray', 'Gill', 'Hayward',\n",
       "       'Hobbs', 'Hughes', 'Schofield', 'Byrne', 'Gregory', 'Wall',\n",
       "       'Whitehead', 'Green', 'Ellis', 'Martin', 'Bishop', 'Shepherd',\n",
       "       'Newton', 'Warren', 'Morley', 'Davidson', 'Harrison', 'McCarthy',\n",
       "       'Johnston', 'Mills-Johnston', 'Gallagher', 'Ward', 'Hargreaves',\n",
       "       'Dean', 'Booth', 'Wilkinson', 'Godfrey', 'Pollard', 'Brennan',\n",
       "       'Phillips', 'Norris', 'Hale', 'Abbott', 'Buckley', 'Hunter',\n",
       "       'Rogers', 'Miles', 'Wheeler', 'Coates', 'Watson', 'Lambert',\n",
       "       'Roberts', 'Dawson', 'Sanders', 'Hayes', 'Osborne', 'Brooks',\n",
       "       'Lord', 'Bruce', 'Berry', 'Begum', 'Turner', 'Carter',\n",
       "       'Browne-Patel', 'Atkinson', 'Carey', 'Burke', 'Lloyd', 'Goddard',\n",
       "       'Hyde', 'Jones-Smith', 'Powell', 'Price-Bennett',\n",
       "       'Johnson-Anderson', 'Parker', 'Farmer', 'Doyle', 'Hunt', 'Bentley',\n",
       "       'Doherty', 'Thornton', 'Morgan', 'Cartwright', 'Ford', 'Morrison',\n",
       "       'Lamb', 'Wyatt', 'Rose', 'Cooper', 'Lees', 'Lucas', 'Reid',\n",
       "       'Gough', 'Moran', 'Coleman', 'Bradley', 'Lee', 'Bull', 'Burrows',\n",
       "       'Turner-Burrows', 'Clayton', 'Hall', 'Woodward', 'Norton-Coleman',\n",
       "       'Payne', 'Fletcher', 'Farrell', 'Carpenter', 'Hudson',\n",
       "       'Marshall-Patel', 'Blake', 'Singh', 'Morris', 'May', 'Vincent',\n",
       "       'Webster', 'Chamberlain', 'Andrews', 'Swift', 'Harris', 'Stewart',\n",
       "       'Parkinson', 'Alexander', 'Ryan', 'Williamson', 'Watts',\n",
       "       'Bailey-Lloyd', 'Horton', 'Davies-Kelly', 'Palmer', 'Boyle',\n",
       "       'Ferguson', 'Baldwin', 'Mason-Flynn', 'Field', 'Walters',\n",
       "       'Wheeler-Walters', 'Spencer', 'Wong', 'Lawson', 'Banks', 'Parkes',\n",
       "       'Collins-Abbott', 'Sullivan', 'Peacock', 'Bird-Gregory', 'Poole',\n",
       "       'Heath', 'Robson', 'Hewitt-Brown', 'Dixon', 'Walsh', 'Stevenson',\n",
       "       'Dunn', 'Wallace', 'Marshall', 'White', 'Hicks', 'Austin',\n",
       "       'Browne', 'Haynes', 'Shah-Taylor', 'Perkins', 'Conway', 'Reynolds',\n",
       "       'Chadwick-Mitchell', 'Parsons', 'Allen', 'Cox', 'Pope', 'Kirby',\n",
       "       'Clarke', 'Bailey', 'Simpson', 'Rowe', 'Pearce', 'Kent',\n",
       "       'Armstrong', 'Jenkins', 'Elliott', 'Richards', 'Summers',\n",
       "       'Middleton', 'Murray', 'Daly-Whitehouse', 'Herbert', 'Forster',\n",
       "       'Kay', 'Barton', 'Woods', 'Woods-Hill', 'Carr', 'Connor', 'Naylor',\n",
       "       'Holt', 'Daly', 'Hancock', \"O'Neill\", 'Williams-Smith', 'Finch',\n",
       "       'Doyle-Evans', 'Thorpe', 'Sharp', 'Howe', 'Bryant', 'Greenwood',\n",
       "       'Townsend', 'Harris-Barber', 'Bray', 'Chandler', 'Cooke',\n",
       "       'Charlton', 'Smart', 'Sanderson', 'Howard-Rogers', 'Newman-Briggs',\n",
       "       'Reeves', 'Archer', 'McLean', 'Jenkins-Begum', 'Marsden',\n",
       "       \"O'Sullivan\", 'Sutton', 'Watkins', 'Turner-Warner', 'Lewis',\n",
       "       'Lloyd-Brown', 'Gould', 'North', 'Smith-North', 'Briggs', 'Barry',\n",
       "       'Rhodes', 'Hammond', 'Hill-Hammond', 'Price', 'Leonard',\n",
       "       'Miles-Leonard', 'Burns', 'Faulkner', 'Bond', 'Porter', 'Franklin',\n",
       "       'Fisher-Baldwin', 'Grant', 'King-Whitehouse', 'Taylor-Griffiths',\n",
       "       'Burns-Jenkins', 'Campbell', 'Preston', 'Rowley', 'Willis',\n",
       "       'Fox-Smith', 'Cook', 'Rice', 'Fletcher-Williams', 'Murphy',\n",
       "       'Foster', 'Hutchinson', 'Whitehouse', 'Hardy', 'Hodgson',\n",
       "       'Douglas', 'Dale', 'Chapman', 'Daniels', 'Hamilton', 'Griffin',\n",
       "       'Bibi', 'Donnelly', 'Smith-Nicholls', 'Bowen-Smith-Nicholls',\n",
       "       'Bartlett', 'Mahmood', 'Grant-Smith', 'Clements',\n",
       "       'Clarke-Connolly', 'Ingram', 'George', 'Humphreys-Marsh',\n",
       "       'Collins-Jones', 'Yates', 'Fleming', 'Gray-Gilbert',\n",
       "       'Richards-Roberts', 'Norman', 'Baxter', 'Dodd', 'Clarke-Wright',\n",
       "       'Sheppard', \"Parker-O'Sullivan\", 'Ashton', 'Bates', 'Davison',\n",
       "       'Potts', 'Rahman', 'Wade', 'Shaw-Davies', 'Howells',\n",
       "       'Morgan-Moore', 'Hope', 'Phillips-Williams', 'Miller-Hutchinson',\n",
       "       'Duffy', 'Todd', 'Miller-Johnson', 'Kennedy', 'Rees', 'Gardner',\n",
       "       'Howell', 'Holmes', 'Gibbons', 'Sinclair', 'Hunter-Doyle',\n",
       "       'Bishop-Taylor', 'Parkin', 'Robertson', 'Lawrence', 'Jarvis',\n",
       "       'Myers', 'Gardiner', 'Pritchard', 'Law', 'Bryan', 'Read',\n",
       "       'Mellor-Davis', 'Hussain', 'Bolton', 'Hunt-Sinclair', 'Black',\n",
       "       'Warner', 'Metcalfe', 'Powell-Foster', 'Bowen', 'Graham-Bennett',\n",
       "       'Garner', 'Hart', 'Slater', 'Harding-Young', 'Fox', 'Clarke-Young',\n",
       "       \"O'Brien\", 'Glover', 'Coles', 'Gibbs', 'Stone-Reeves',\n",
       "       'Finch-Williams', 'Chadwick', 'Lynch', 'Sykes-Wallace', 'Nolan',\n",
       "       'Kerr', 'Bell-Lee', 'Hewitt', 'Skinner', 'Allen-Bolton',\n",
       "       'Webster-Jackson', 'Jennings-Cunningham', 'Barnes',\n",
       "       'Humphreys-Payne', 'Barker', 'Davis-Patel', 'Weston', 'Pickering',\n",
       "       'Wright-Howarth', 'Young-Wright-Howarth', 'Dyer', 'Howard',\n",
       "       'Wilkins', 'Pearce-Parry', 'Reynolds-White', 'Riley-Bibi',\n",
       "       'Shepherd-Tucker', 'Collier', 'Holloway', 'Watson-Yates',\n",
       "       'Roberts-Collier', 'Storey', 'Manning', 'Macdonald', 'Craig',\n",
       "       'Carey-Pearson', 'Holland', 'Sims', 'Rowe-Payne', 'Bell-Mason',\n",
       "       'Hardy-Hewitt', 'Payne-Green', 'Giles', 'Fry-Bennett', 'Hawkins',\n",
       "       'Mitchell-Briggs', 'Bradshaw', 'Clayton-Lawrence',\n",
       "       'Fletcher-Campbell', 'Begum-Fletcher-Campbell', 'Wilson-Adams',\n",
       "       'Hurst', 'Wilson-Jackson', 'James-Lane', 'Hall-Lowe',\n",
       "       'Smith-Gilbert', 'Hussain-Griffiths', 'Lowe', 'Newman-Smith',\n",
       "       'Wilson-Wilson', ' ', 'Barlow', 'King-Douglas', 'Dickinson',\n",
       "       'Williams-Hall', 'Waters-Miles', 'Davis-Smith', 'Barrett-Carter',\n",
       "       'Chan', 'Davidson-Scott', 'Steele', 'Khan-Wright',\n",
       "       'Phillips-Preston', 'Weston-Phillips-Preston', 'Robinson-Watson',\n",
       "       'Wilson-Hicks', 'Thompson-Noble', 'Fitzgerald',\n",
       "       \"O'Donnell-Pollard\", 'Lowe-Wilson', 'Slater-Hill', 'Bevan',\n",
       "       'Hall-Palmer', 'Lee-Hunter', 'Hall-Bates', 'White-Taylor', 'Lyons',\n",
       "       'Tomlinson', 'Edwards-Reynolds', 'Jones-Lee', 'Owen-White',\n",
       "       'Hale-Phillips', 'Hooper', 'Roberts-Ward', 'Daly-Robinson',\n",
       "       'Dodd-Berry', 'Smith-Edwards', 'Welch', 'Chambers-Gould',\n",
       "       'Allen-Jarvis', 'Sharpe', 'Howarth-Morley', 'Owens',\n",
       "       'Harris-Williams', 'French', 'Jones-Roberts', 'Harding', 'Dennis',\n",
       "       'Cameron', 'Martin-Butler', 'Waters', 'Leach', 'Marsh-May',\n",
       "       'Allan-Alexander', 'Robson-Pugh', 'Hayes-Long', 'Davies-Carter',\n",
       "       'John', 'Payne-Clements', 'Moran-Wilson', 'Patel-Cole',\n",
       "       'Matthews-Wilson', 'Martin-James', 'Richardson-Hamilton',\n",
       "       'Jones-Collins', 'Morris-Miller', 'Thompson-Walker', 'Hill-Stokes',\n",
       "       'Chapman-Barnett', \"O'Donnell\", 'Mitchell-Smith', 'Kirby-White',\n",
       "       'Bevan-Walker', 'Griffiths-Kirk', 'Cook-Matthews', 'Kay-Fuller',\n",
       "       'Goodwin', 'Khan-Hall', 'Benson', 'Patel-Pope', 'Carr-Cox',\n",
       "       'Jackson-Morris', 'Noble', 'Thompson-Dawson', 'Harrison-Davies',\n",
       "       'Thornton-Knight', 'Cooper-Oliver', 'Williamson-King', 'Brookes',\n",
       "       'Barnett', 'West-Simpson', 'Nelson', 'Birch', 'Patel-Brennan',\n",
       "       'Morton', 'Taylor-Howard', 'Henderson', 'Thorpe-Miller',\n",
       "       'Humphreys', 'Phillips-Richards', 'Barlow-Vaughan',\n",
       "       'Hawkins-Tyler', 'Mann-Joyce', 'Gilbert-Richardson',\n",
       "       'Kelly-Thompson', 'Williams-Kelly-Thompson', 'Reynolds-Talbot',\n",
       "       'Butler-Hicks', 'Roberts-Taylor', 'Doyle-Hill', 'Doherty-Goodwin',\n",
       "       'Franklin-White', 'Griffiths-Stokes', 'Patel-Wilson',\n",
       "       'Norris-Waters', 'Kelly-Bailey', 'Hill-Hope', 'Dobson',\n",
       "       'Rees-Johnson', 'Lees-Turner', 'Shepherd-Turner',\n",
       "       'Marshall-Shepherd-Turner', 'Birch-Smith', 'Bryant-Brown',\n",
       "       'Clarke-Jones', 'Morris-Kemp', \"Harrison-O'Brien\", 'Woods-Joyce',\n",
       "       'Baker-Mills', 'Oliver-Jones', 'Elliott-Wilkinson', 'Ellis-Begum',\n",
       "       'Hancock-Sanders', 'Gordon', 'Brown-Parker', 'Rose-King',\n",
       "       'Smith-Archer', 'Marsden-Freeman', 'Fraser-Elliott',\n",
       "       'Phillips-Lloyd', 'Price-Patel', 'Middleton-Hammond',\n",
       "       'Patel-Warner', 'Pritchard-Todd'], dtype=object)"
      ]
     },
     "execution_count": 19,
     "metadata": {},
     "output_type": "execute_result"
    }
   ],
   "source": [
    "df['Surname'].unique()"
   ]
  },
  {
   "cell_type": "code",
   "execution_count": 20,
   "id": "8937e7a8",
   "metadata": {},
   "outputs": [
    {
     "data": {
      "text/html": [
       "<div>\n",
       "<style scoped>\n",
       "    .dataframe tbody tr th:only-of-type {\n",
       "        vertical-align: middle;\n",
       "    }\n",
       "\n",
       "    .dataframe tbody tr th {\n",
       "        vertical-align: top;\n",
       "    }\n",
       "\n",
       "    .dataframe thead th {\n",
       "        text-align: right;\n",
       "    }\n",
       "</style>\n",
       "<table border=\"1\" class=\"dataframe\">\n",
       "  <thead>\n",
       "    <tr style=\"text-align: right;\">\n",
       "      <th></th>\n",
       "      <th>House Number</th>\n",
       "      <th>Street</th>\n",
       "      <th>First Name</th>\n",
       "      <th>Surname</th>\n",
       "      <th>Age</th>\n",
       "      <th>Relationship to Head of House</th>\n",
       "      <th>Marital Status</th>\n",
       "      <th>Gender</th>\n",
       "      <th>Occupation</th>\n",
       "      <th>Infirmity</th>\n",
       "      <th>Religion</th>\n",
       "    </tr>\n",
       "  </thead>\n",
       "  <tbody>\n",
       "    <tr>\n",
       "      <th>4667</th>\n",
       "      <td>102</td>\n",
       "      <td>Horton Drive</td>\n",
       "      <td>Kirsty</td>\n",
       "      <td></td>\n",
       "      <td>19.0</td>\n",
       "      <td>Daughter</td>\n",
       "      <td>Divorced</td>\n",
       "      <td>Female</td>\n",
       "      <td>University Student</td>\n",
       "      <td>None</td>\n",
       "      <td>Methodist</td>\n",
       "    </tr>\n",
       "    <tr>\n",
       "      <th>6057</th>\n",
       "      <td>173</td>\n",
       "      <td>Kelly Pass</td>\n",
       "      <td>Rachael</td>\n",
       "      <td></td>\n",
       "      <td>55.0</td>\n",
       "      <td>Head</td>\n",
       "      <td>Single</td>\n",
       "      <td>Female</td>\n",
       "      <td>Unemployed</td>\n",
       "      <td>None</td>\n",
       "      <td>None</td>\n",
       "    </tr>\n",
       "  </tbody>\n",
       "</table>\n",
       "</div>"
      ],
      "text/plain": [
       "     House Number        Street First Name Surname   Age  \\\n",
       "4667          102  Horton Drive     Kirsty          19.0   \n",
       "6057          173    Kelly Pass    Rachael          55.0   \n",
       "\n",
       "     Relationship to Head of House Marital Status  Gender          Occupation  \\\n",
       "4667                      Daughter       Divorced  Female  University Student   \n",
       "6057                          Head         Single  Female          Unemployed   \n",
       "\n",
       "     Infirmity   Religion  \n",
       "4667      None  Methodist  \n",
       "6057      None       None  "
      ]
     },
     "execution_count": 20,
     "metadata": {},
     "output_type": "execute_result"
    }
   ],
   "source": [
    "df.loc[df['Surname']== ' ']"
   ]
  },
  {
   "cell_type": "code",
   "execution_count": 21,
   "id": "f41c26c6",
   "metadata": {},
   "outputs": [],
   "source": [
    "df.at[4667, 'Surname']='Williams'\n",
    "df.at[6057, 'Surname']='Field'"
   ]
  },
  {
   "cell_type": "code",
   "execution_count": null,
   "id": "fa552a7f",
   "metadata": {},
   "outputs": [],
   "source": []
  },
  {
   "cell_type": "code",
   "execution_count": 22,
   "id": "a5de6d21",
   "metadata": {},
   "outputs": [
    {
     "data": {
      "text/plain": [
       "array([ 66.        ,  39.        ,   7.        ,   4.        ,\n",
       "        54.        ,  52.        ,   5.        ,  73.        ,\n",
       "        80.        ,  83.        ,  61.        ,  59.        ,\n",
       "        64.        ,   9.        ,  38.        ,  40.        ,\n",
       "        51.        ,  19.        ,  15.        ,  67.        ,\n",
       "        43.        ,  31.        ,  68.        ,  70.        ,\n",
       "        50.        ,  46.        ,  17.        ,  79.        ,\n",
       "        20.        ,  74.        ,  69.        ,  85.        ,\n",
       "        29.        ,  72.        ,  32.        ,  56.        ,\n",
       "        37.        ,  22.        ,  65.        ,  57.        ,\n",
       "        41.        ,  21.        ,  48.        ,  34.        ,\n",
       "        44.        ,  18.        ,  16.        ,  60.        ,\n",
       "        58.        ,  11.        ,  62.        ,  71.        ,\n",
       "        36.        ,   2.        ,  47.        ,  27.        ,\n",
       "         0.        ,  63.        ,  25.        ,  86.        ,\n",
       "        87.        ,  53.        ,  49.        ,  13.        ,\n",
       "        10.        ,  23.        ,  75.        ,  35.        ,\n",
       "         6.        ,  78.        ,  42.        ,  45.        ,\n",
       "        14.        ,  26.        ,   8.        ,  12.        ,\n",
       "        55.        ,   3.        ,  33.        ,   1.        ,\n",
       "        77.        ,  24.        ,  81.        ,  98.        ,\n",
       "        96.        ,  28.        ,  30.        , 104.        ,\n",
       "       100.        , 106.        ,  89.        ,  84.        ,\n",
       "        76.        ,  57.19277294,  88.        , 101.        ,\n",
       "       103.        ,  82.        ,  94.        ,  90.        ,\n",
       "        93.        ,  91.        ,  99.        ,  92.        ,\n",
       "        95.        ,  60.12264474,  98.02957841,  72.96366802,\n",
       "        74.96366802, 102.        , 105.        ,  68.92307765,\n",
       "        66.92307765,  51.26787949,  97.        ,  48.03647584])"
      ]
     },
     "execution_count": 22,
     "metadata": {},
     "output_type": "execute_result"
    }
   ],
   "source": [
    "df['Age'].unique()"
   ]
  },
  {
   "cell_type": "code",
   "execution_count": 23,
   "id": "3dc15afb",
   "metadata": {},
   "outputs": [
    {
     "data": {
      "text/html": [
       "<div>\n",
       "<style scoped>\n",
       "    .dataframe tbody tr th:only-of-type {\n",
       "        vertical-align: middle;\n",
       "    }\n",
       "\n",
       "    .dataframe tbody tr th {\n",
       "        vertical-align: top;\n",
       "    }\n",
       "\n",
       "    .dataframe thead th {\n",
       "        text-align: right;\n",
       "    }\n",
       "</style>\n",
       "<table border=\"1\" class=\"dataframe\">\n",
       "  <thead>\n",
       "    <tr style=\"text-align: right;\">\n",
       "      <th></th>\n",
       "      <th>House Number</th>\n",
       "      <th>Street</th>\n",
       "      <th>First Name</th>\n",
       "      <th>Surname</th>\n",
       "      <th>Age</th>\n",
       "      <th>Relationship to Head of House</th>\n",
       "      <th>Marital Status</th>\n",
       "      <th>Gender</th>\n",
       "      <th>Occupation</th>\n",
       "      <th>Infirmity</th>\n",
       "      <th>Religion</th>\n",
       "    </tr>\n",
       "  </thead>\n",
       "  <tbody>\n",
       "  </tbody>\n",
       "</table>\n",
       "</div>"
      ],
      "text/plain": [
       "Empty DataFrame\n",
       "Columns: [House Number, Street, First Name, Surname, Age, Relationship to Head of House, Marital Status, Gender, Occupation, Infirmity, Religion]\n",
       "Index: []"
      ]
     },
     "execution_count": 23,
     "metadata": {},
     "output_type": "execute_result"
    }
   ],
   "source": [
    "df.loc[df['Age']== ' ']"
   ]
  },
  {
   "cell_type": "code",
   "execution_count": 24,
   "id": "fcd1f6ee",
   "metadata": {},
   "outputs": [],
   "source": [
    "df['Age'] = df['Age'].astype(float)\n",
    "df['Age'] = df['Age'].apply(np.floor)\n",
    "df['Age'] = df['Age'].astype(int)"
   ]
  },
  {
   "cell_type": "code",
   "execution_count": 25,
   "id": "d58e2c4d",
   "metadata": {},
   "outputs": [
    {
     "data": {
      "text/plain": [
       "array([ 66,  39,   7,   4,  54,  52,   5,  73,  80,  83,  61,  59,  64,\n",
       "         9,  38,  40,  51,  19,  15,  67,  43,  31,  68,  70,  50,  46,\n",
       "        17,  79,  20,  74,  69,  85,  29,  72,  32,  56,  37,  22,  65,\n",
       "        57,  41,  21,  48,  34,  44,  18,  16,  60,  58,  11,  62,  71,\n",
       "        36,   2,  47,  27,   0,  63,  25,  86,  87,  53,  49,  13,  10,\n",
       "        23,  75,  35,   6,  78,  42,  45,  14,  26,   8,  12,  55,   3,\n",
       "        33,   1,  77,  24,  81,  98,  96,  28,  30, 104, 100, 106,  89,\n",
       "        84,  76,  88, 101, 103,  82,  94,  90,  93,  91,  99,  92,  95,\n",
       "       102, 105,  97])"
      ]
     },
     "execution_count": 25,
     "metadata": {},
     "output_type": "execute_result"
    }
   ],
   "source": [
    "df['Age'].unique()"
   ]
  },
  {
   "cell_type": "code",
   "execution_count": 26,
   "id": "81f45271",
   "metadata": {},
   "outputs": [
    {
     "data": {
      "text/plain": [
       "dtype('int32')"
      ]
     },
     "execution_count": 26,
     "metadata": {},
     "output_type": "execute_result"
    }
   ],
   "source": [
    "df['Age'].dtype"
   ]
  },
  {
   "cell_type": "code",
   "execution_count": null,
   "id": "2c30a70a",
   "metadata": {},
   "outputs": [],
   "source": []
  },
  {
   "cell_type": "code",
   "execution_count": 27,
   "id": "01312c17",
   "metadata": {},
   "outputs": [
    {
     "data": {
      "text/plain": [
       "array(['Head', 'Son', 'Daughter', 'Wife', 'Step-Son', 'Husband',\n",
       "       'Granddaughter', 'Step-Daughter', 'Grandson', 'Lodger', 'Partner',\n",
       "       'None', 'Adopted Son', 'Sibling', ' ', 'Cousin',\n",
       "       'Adopted Daughter', 'Visitor', 'Neice', 'Nephew',\n",
       "       'Daughter-in-law', 'Son-in-law', 'Adopted Granddaughter'],\n",
       "      dtype=object)"
      ]
     },
     "execution_count": 27,
     "metadata": {},
     "output_type": "execute_result"
    }
   ],
   "source": [
    "df['Relationship to Head of House'].unique()"
   ]
  },
  {
   "cell_type": "code",
   "execution_count": 28,
   "id": "798d696c",
   "metadata": {},
   "outputs": [
    {
     "data": {
      "text/html": [
       "<div>\n",
       "<style scoped>\n",
       "    .dataframe tbody tr th:only-of-type {\n",
       "        vertical-align: middle;\n",
       "    }\n",
       "\n",
       "    .dataframe tbody tr th {\n",
       "        vertical-align: top;\n",
       "    }\n",
       "\n",
       "    .dataframe thead th {\n",
       "        text-align: right;\n",
       "    }\n",
       "</style>\n",
       "<table border=\"1\" class=\"dataframe\">\n",
       "  <thead>\n",
       "    <tr style=\"text-align: right;\">\n",
       "      <th></th>\n",
       "      <th>House Number</th>\n",
       "      <th>Street</th>\n",
       "      <th>First Name</th>\n",
       "      <th>Surname</th>\n",
       "      <th>Age</th>\n",
       "      <th>Relationship to Head of House</th>\n",
       "      <th>Marital Status</th>\n",
       "      <th>Gender</th>\n",
       "      <th>Occupation</th>\n",
       "      <th>Infirmity</th>\n",
       "      <th>Religion</th>\n",
       "    </tr>\n",
       "  </thead>\n",
       "  <tbody>\n",
       "    <tr>\n",
       "      <th>291</th>\n",
       "      <td>52</td>\n",
       "      <td>Ford Throughway</td>\n",
       "      <td>Barry</td>\n",
       "      <td>McDonald</td>\n",
       "      <td>79</td>\n",
       "      <td></td>\n",
       "      <td>Married</td>\n",
       "      <td>Male</td>\n",
       "      <td>Retired Ecologist</td>\n",
       "      <td>None</td>\n",
       "      <td>Christian</td>\n",
       "    </tr>\n",
       "    <tr>\n",
       "      <th>9323</th>\n",
       "      <td>9</td>\n",
       "      <td>Coventry Causeway</td>\n",
       "      <td>Alan</td>\n",
       "      <td>Howe</td>\n",
       "      <td>46</td>\n",
       "      <td></td>\n",
       "      <td>Divorced</td>\n",
       "      <td>Male</td>\n",
       "      <td>Rural practice surveyor</td>\n",
       "      <td>None</td>\n",
       "      <td>Catholic</td>\n",
       "    </tr>\n",
       "  </tbody>\n",
       "</table>\n",
       "</div>"
      ],
      "text/plain": [
       "     House Number             Street First Name   Surname  Age  \\\n",
       "291            52    Ford Throughway      Barry  McDonald   79   \n",
       "9323            9  Coventry Causeway       Alan      Howe   46   \n",
       "\n",
       "     Relationship to Head of House Marital Status Gender  \\\n",
       "291                                       Married   Male   \n",
       "9323                                     Divorced   Male   \n",
       "\n",
       "                   Occupation Infirmity   Religion  \n",
       "291         Retired Ecologist      None  Christian  \n",
       "9323  Rural practice surveyor      None   Catholic  "
      ]
     },
     "execution_count": 28,
     "metadata": {},
     "output_type": "execute_result"
    }
   ],
   "source": [
    "df.loc[df['Relationship to Head of House']== ' ']"
   ]
  },
  {
   "cell_type": "code",
   "execution_count": 29,
   "id": "d4628c75",
   "metadata": {},
   "outputs": [],
   "source": [
    "df.at[291, 'Relationship to Head of House']='Husband'\n",
    "df.at[9323, 'Relationship to Head of House']='Lodger'"
   ]
  },
  {
   "cell_type": "code",
   "execution_count": null,
   "id": "0bf19ec0",
   "metadata": {},
   "outputs": [],
   "source": []
  },
  {
   "cell_type": "code",
   "execution_count": 30,
   "id": "c2effc65",
   "metadata": {},
   "outputs": [
    {
     "data": {
      "text/plain": [
       "array(['Single', nan, 'Married', 'Divorced', 'Widowed'], dtype=object)"
      ]
     },
     "execution_count": 30,
     "metadata": {},
     "output_type": "execute_result"
    }
   ],
   "source": [
    "df['Marital Status'].unique()"
   ]
  },
  {
   "cell_type": "code",
   "execution_count": 31,
   "id": "c557bac5",
   "metadata": {},
   "outputs": [],
   "source": [
    "df['Marital Status'].fillna('Minor', inplace=True)"
   ]
  },
  {
   "cell_type": "code",
   "execution_count": 32,
   "id": "fba91532",
   "metadata": {},
   "outputs": [
    {
     "data": {
      "text/html": [
       "<div>\n",
       "<style scoped>\n",
       "    .dataframe tbody tr th:only-of-type {\n",
       "        vertical-align: middle;\n",
       "    }\n",
       "\n",
       "    .dataframe tbody tr th {\n",
       "        vertical-align: top;\n",
       "    }\n",
       "\n",
       "    .dataframe thead th {\n",
       "        text-align: right;\n",
       "    }\n",
       "</style>\n",
       "<table border=\"1\" class=\"dataframe\">\n",
       "  <thead>\n",
       "    <tr style=\"text-align: right;\">\n",
       "      <th></th>\n",
       "      <th>House Number</th>\n",
       "      <th>Street</th>\n",
       "      <th>First Name</th>\n",
       "      <th>Surname</th>\n",
       "      <th>Age</th>\n",
       "      <th>Relationship to Head of House</th>\n",
       "      <th>Marital Status</th>\n",
       "      <th>Gender</th>\n",
       "      <th>Occupation</th>\n",
       "      <th>Infirmity</th>\n",
       "      <th>Religion</th>\n",
       "    </tr>\n",
       "  </thead>\n",
       "  <tbody>\n",
       "  </tbody>\n",
       "</table>\n",
       "</div>"
      ],
      "text/plain": [
       "Empty DataFrame\n",
       "Columns: [House Number, Street, First Name, Surname, Age, Relationship to Head of House, Marital Status, Gender, Occupation, Infirmity, Religion]\n",
       "Index: []"
      ]
     },
     "execution_count": 32,
     "metadata": {},
     "output_type": "execute_result"
    }
   ],
   "source": [
    "df[df['Marital Status'].isnull()]"
   ]
  },
  {
   "cell_type": "code",
   "execution_count": null,
   "id": "3397d824",
   "metadata": {},
   "outputs": [],
   "source": []
  },
  {
   "cell_type": "code",
   "execution_count": 33,
   "id": "5c0f1817",
   "metadata": {},
   "outputs": [
    {
     "data": {
      "text/plain": [
       "array(['Male', 'Female', 'M', ' ', 'F'], dtype=object)"
      ]
     },
     "execution_count": 33,
     "metadata": {},
     "output_type": "execute_result"
    }
   ],
   "source": [
    "df['Gender'].unique()"
   ]
  },
  {
   "cell_type": "code",
   "execution_count": 34,
   "id": "f0b0fa34",
   "metadata": {},
   "outputs": [],
   "source": [
    "df['Gender'].replace('M','Male', inplace=True)\n",
    "df['Gender'].replace('F','Female', inplace=True)"
   ]
  },
  {
   "cell_type": "code",
   "execution_count": 35,
   "id": "f5ed6d22",
   "metadata": {},
   "outputs": [
    {
     "data": {
      "text/html": [
       "<div>\n",
       "<style scoped>\n",
       "    .dataframe tbody tr th:only-of-type {\n",
       "        vertical-align: middle;\n",
       "    }\n",
       "\n",
       "    .dataframe tbody tr th {\n",
       "        vertical-align: top;\n",
       "    }\n",
       "\n",
       "    .dataframe thead th {\n",
       "        text-align: right;\n",
       "    }\n",
       "</style>\n",
       "<table border=\"1\" class=\"dataframe\">\n",
       "  <thead>\n",
       "    <tr style=\"text-align: right;\">\n",
       "      <th></th>\n",
       "      <th>House Number</th>\n",
       "      <th>Street</th>\n",
       "      <th>First Name</th>\n",
       "      <th>Surname</th>\n",
       "      <th>Age</th>\n",
       "      <th>Relationship to Head of House</th>\n",
       "      <th>Marital Status</th>\n",
       "      <th>Gender</th>\n",
       "      <th>Occupation</th>\n",
       "      <th>Infirmity</th>\n",
       "      <th>Religion</th>\n",
       "    </tr>\n",
       "  </thead>\n",
       "  <tbody>\n",
       "    <tr>\n",
       "      <th>951</th>\n",
       "      <td>10</td>\n",
       "      <td>Bath Branch</td>\n",
       "      <td>Hollie</td>\n",
       "      <td>Ferguson</td>\n",
       "      <td>51</td>\n",
       "      <td>Head</td>\n",
       "      <td>Single</td>\n",
       "      <td></td>\n",
       "      <td>Curator</td>\n",
       "      <td>None</td>\n",
       "      <td>Christian</td>\n",
       "    </tr>\n",
       "    <tr>\n",
       "      <th>2242</th>\n",
       "      <td>88</td>\n",
       "      <td>Bailey Islands</td>\n",
       "      <td>Mandy</td>\n",
       "      <td>Wade</td>\n",
       "      <td>32</td>\n",
       "      <td>Daughter</td>\n",
       "      <td>Divorced</td>\n",
       "      <td></td>\n",
       "      <td>Therapist, occupational</td>\n",
       "      <td>None</td>\n",
       "      <td>Methodist</td>\n",
       "    </tr>\n",
       "    <tr>\n",
       "      <th>5018</th>\n",
       "      <td>199</td>\n",
       "      <td>Horton Drive</td>\n",
       "      <td>Amanda</td>\n",
       "      <td>O'Brien</td>\n",
       "      <td>15</td>\n",
       "      <td>Daughter</td>\n",
       "      <td>Minor</td>\n",
       "      <td></td>\n",
       "      <td>Student</td>\n",
       "      <td>None</td>\n",
       "      <td>NaN</td>\n",
       "    </tr>\n",
       "    <tr>\n",
       "      <th>6303</th>\n",
       "      <td>49</td>\n",
       "      <td>Bassenthwaite Forks</td>\n",
       "      <td>Rosemary</td>\n",
       "      <td>Banks</td>\n",
       "      <td>31</td>\n",
       "      <td>Wife</td>\n",
       "      <td>Married</td>\n",
       "      <td></td>\n",
       "      <td>Water engineer</td>\n",
       "      <td>None</td>\n",
       "      <td>None</td>\n",
       "    </tr>\n",
       "  </tbody>\n",
       "</table>\n",
       "</div>"
      ],
      "text/plain": [
       "     House Number               Street First Name   Surname  Age  \\\n",
       "951            10          Bath Branch     Hollie  Ferguson   51   \n",
       "2242           88       Bailey Islands      Mandy      Wade   32   \n",
       "5018          199         Horton Drive     Amanda   O'Brien   15   \n",
       "6303           49  Bassenthwaite Forks   Rosemary     Banks   31   \n",
       "\n",
       "     Relationship to Head of House Marital Status Gender  \\\n",
       "951                           Head         Single          \n",
       "2242                      Daughter       Divorced          \n",
       "5018                      Daughter          Minor          \n",
       "6303                          Wife        Married          \n",
       "\n",
       "                   Occupation Infirmity   Religion  \n",
       "951                   Curator      None  Christian  \n",
       "2242  Therapist, occupational      None  Methodist  \n",
       "5018                  Student      None        NaN  \n",
       "6303           Water engineer      None       None  "
      ]
     },
     "execution_count": 35,
     "metadata": {},
     "output_type": "execute_result"
    }
   ],
   "source": [
    "df.loc[df['Gender']== ' ']"
   ]
  },
  {
   "cell_type": "code",
   "execution_count": 36,
   "id": "4a26cdab",
   "metadata": {},
   "outputs": [],
   "source": [
    "df.at[951, 'Gender']='Female'\n",
    "df.at[2242, 'Gender']='Female'\n",
    "df.at[5018, 'Gender']='Female'\n",
    "df.at[6303, 'Gender']='Female'"
   ]
  },
  {
   "cell_type": "code",
   "execution_count": null,
   "id": "b2771531",
   "metadata": {},
   "outputs": [],
   "source": []
  },
  {
   "cell_type": "code",
   "execution_count": 37,
   "id": "0b7594e3",
   "metadata": {},
   "outputs": [
    {
     "data": {
      "text/plain": [
       "array(['Editor, magazine features', 'Games developer', 'Student', ...,\n",
       "       'Retired Oceanographer', 'Retired Engineer, agricultural',\n",
       "       'Retired Logistics and distribution manager'], dtype=object)"
      ]
     },
     "execution_count": 37,
     "metadata": {},
     "output_type": "execute_result"
    }
   ],
   "source": [
    "df['Occupation'].unique()"
   ]
  },
  {
   "cell_type": "code",
   "execution_count": 38,
   "id": "f298a511",
   "metadata": {
    "scrolled": true
   },
   "outputs": [
    {
     "data": {
      "text/html": [
       "<div>\n",
       "<style scoped>\n",
       "    .dataframe tbody tr th:only-of-type {\n",
       "        vertical-align: middle;\n",
       "    }\n",
       "\n",
       "    .dataframe tbody tr th {\n",
       "        vertical-align: top;\n",
       "    }\n",
       "\n",
       "    .dataframe thead th {\n",
       "        text-align: right;\n",
       "    }\n",
       "</style>\n",
       "<table border=\"1\" class=\"dataframe\">\n",
       "  <thead>\n",
       "    <tr style=\"text-align: right;\">\n",
       "      <th></th>\n",
       "      <th>House Number</th>\n",
       "      <th>Street</th>\n",
       "      <th>First Name</th>\n",
       "      <th>Surname</th>\n",
       "      <th>Age</th>\n",
       "      <th>Relationship to Head of House</th>\n",
       "      <th>Marital Status</th>\n",
       "      <th>Gender</th>\n",
       "      <th>Occupation</th>\n",
       "      <th>Infirmity</th>\n",
       "      <th>Religion</th>\n",
       "    </tr>\n",
       "  </thead>\n",
       "  <tbody>\n",
       "    <tr>\n",
       "      <th>678</th>\n",
       "      <td>27</td>\n",
       "      <td>Northumberland Avenue</td>\n",
       "      <td>Bradley</td>\n",
       "      <td>Bentley</td>\n",
       "      <td>9</td>\n",
       "      <td>Son</td>\n",
       "      <td>Minor</td>\n",
       "      <td>Male</td>\n",
       "      <td></td>\n",
       "      <td>None</td>\n",
       "      <td>NaN</td>\n",
       "    </tr>\n",
       "    <tr>\n",
       "      <th>3712</th>\n",
       "      <td>213</td>\n",
       "      <td>Thomas Greens</td>\n",
       "      <td>Shane</td>\n",
       "      <td>Saunders</td>\n",
       "      <td>15</td>\n",
       "      <td>Son</td>\n",
       "      <td>Minor</td>\n",
       "      <td>Male</td>\n",
       "      <td></td>\n",
       "      <td>None</td>\n",
       "      <td>NaN</td>\n",
       "    </tr>\n",
       "  </tbody>\n",
       "</table>\n",
       "</div>"
      ],
      "text/plain": [
       "     House Number                 Street First Name   Surname  Age  \\\n",
       "678            27  Northumberland Avenue    Bradley   Bentley    9   \n",
       "3712          213          Thomas Greens      Shane  Saunders   15   \n",
       "\n",
       "     Relationship to Head of House Marital Status Gender Occupation Infirmity  \\\n",
       "678                            Son          Minor   Male                 None   \n",
       "3712                           Son          Minor   Male                 None   \n",
       "\n",
       "     Religion  \n",
       "678       NaN  \n",
       "3712      NaN  "
      ]
     },
     "execution_count": 38,
     "metadata": {},
     "output_type": "execute_result"
    }
   ],
   "source": [
    "df[df['Occupation']== ' ']"
   ]
  },
  {
   "cell_type": "code",
   "execution_count": 39,
   "id": "71463821",
   "metadata": {},
   "outputs": [],
   "source": [
    "df.at[678, 'Occupation']='Student'\n",
    "df.at[3712, 'Occupation']='Student'"
   ]
  },
  {
   "cell_type": "code",
   "execution_count": null,
   "id": "12e5dbe9",
   "metadata": {},
   "outputs": [],
   "source": []
  },
  {
   "cell_type": "code",
   "execution_count": 40,
   "id": "d895659e",
   "metadata": {},
   "outputs": [
    {
     "data": {
      "text/plain": [
       "array(['None', 'Unknown Infection', 'Blind', 'Physical Disability',\n",
       "       'Mental Disability', 'Disabled', ' ', 'Deaf'], dtype=object)"
      ]
     },
     "execution_count": 40,
     "metadata": {},
     "output_type": "execute_result"
    }
   ],
   "source": [
    "df['Infirmity'].unique()"
   ]
  },
  {
   "cell_type": "code",
   "execution_count": 41,
   "id": "4adf9ba4",
   "metadata": {},
   "outputs": [],
   "source": [
    "df['Infirmity'].replace('Unknown Infection','Unknown', inplace=True)\n",
    "df['Infirmity'].replace('Physical Disability','Disabled', inplace=True)\n",
    "df['Infirmity'].replace('Mental Disability','Disabled', inplace=True)\n",
    "df['Infirmity'].replace(' ','Missing', inplace=True)"
   ]
  },
  {
   "cell_type": "code",
   "execution_count": 42,
   "id": "52d47acc",
   "metadata": {},
   "outputs": [
    {
     "data": {
      "text/plain": [
       "array(['None', 'Unknown', 'Blind', 'Disabled', 'Missing', 'Deaf'],\n",
       "      dtype=object)"
      ]
     },
     "execution_count": 42,
     "metadata": {},
     "output_type": "execute_result"
    }
   ],
   "source": [
    "df['Infirmity'].unique()"
   ]
  },
  {
   "cell_type": "code",
   "execution_count": null,
   "id": "ce60b297",
   "metadata": {},
   "outputs": [],
   "source": []
  },
  {
   "cell_type": "code",
   "execution_count": 43,
   "id": "7e7c8c83",
   "metadata": {},
   "outputs": [
    {
     "data": {
      "text/plain": [
       "array(['Catholic', 'Christian', nan, 'None', 'Methodist', 'Muslim',\n",
       "       'Sikh', 'Jewish', 'Cath0lic', 'Buddist', 'Quaker', 'Agnostic',\n",
       "       'Pagan', 'Sith', 'Meth-odist', 'Hindu', ' ', 'Nope', 'Baptist'],\n",
       "      dtype=object)"
      ]
     },
     "execution_count": 43,
     "metadata": {},
     "output_type": "execute_result"
    }
   ],
   "source": [
    "df['Religion'].unique()"
   ]
  },
  {
   "cell_type": "code",
   "execution_count": 44,
   "id": "a70afa44",
   "metadata": {},
   "outputs": [],
   "source": [
    "df['Religion'].replace('Nope','Agnostic', inplace=True)\n",
    "df['Religion'].replace('None','Agnostic', inplace=True)\n",
    "df['Religion'].replace('Catholic','Christian', inplace=True)\n",
    "df['Religion'].replace('Methodist','Christian', inplace=True)\n",
    "df['Religion'].replace('Baptist','Christian', inplace=True)\n",
    "df['Religion'].replace('Cath0lic','Christian', inplace=True)\n",
    "df['Religion'].replace('Meth-odist','Christian', inplace=True)\n",
    "df['Religion'].replace('Quaker','Christian', inplace=True)\n",
    "df['Religion'].replace(' ','Unknown', inplace=True)\n",
    "df['Religion'].replace('Sith','Unknown', inplace=True)\n",
    "df['Religion'].fillna('Undeclared', inplace=True)"
   ]
  },
  {
   "cell_type": "code",
   "execution_count": 45,
   "id": "313dfa08",
   "metadata": {},
   "outputs": [
    {
     "data": {
      "text/plain": [
       "array(['Christian', 'Undeclared', 'Agnostic', 'Muslim', 'Sikh', 'Jewish',\n",
       "       'Buddist', 'Pagan', 'Unknown', 'Hindu'], dtype=object)"
      ]
     },
     "execution_count": 45,
     "metadata": {},
     "output_type": "execute_result"
    }
   ],
   "source": [
    "df['Religion'].unique()"
   ]
  },
  {
   "cell_type": "code",
   "execution_count": 46,
   "id": "faf56b1f",
   "metadata": {},
   "outputs": [
    {
     "data": {
      "text/html": [
       "<div>\n",
       "<style scoped>\n",
       "    .dataframe tbody tr th:only-of-type {\n",
       "        vertical-align: middle;\n",
       "    }\n",
       "\n",
       "    .dataframe tbody tr th {\n",
       "        vertical-align: top;\n",
       "    }\n",
       "\n",
       "    .dataframe thead th {\n",
       "        text-align: right;\n",
       "    }\n",
       "</style>\n",
       "<table border=\"1\" class=\"dataframe\">\n",
       "  <thead>\n",
       "    <tr style=\"text-align: right;\">\n",
       "      <th></th>\n",
       "      <th>House Number</th>\n",
       "      <th>Street</th>\n",
       "      <th>First Name</th>\n",
       "      <th>Surname</th>\n",
       "      <th>Age</th>\n",
       "      <th>Relationship to Head of House</th>\n",
       "      <th>Marital Status</th>\n",
       "      <th>Gender</th>\n",
       "      <th>Occupation</th>\n",
       "      <th>Infirmity</th>\n",
       "      <th>Religion</th>\n",
       "    </tr>\n",
       "  </thead>\n",
       "  <tbody>\n",
       "    <tr>\n",
       "      <th>2</th>\n",
       "      <td>2</td>\n",
       "      <td>Orry Row</td>\n",
       "      <td>Harry</td>\n",
       "      <td>O'Connor</td>\n",
       "      <td>7</td>\n",
       "      <td>Son</td>\n",
       "      <td>Minor</td>\n",
       "      <td>Male</td>\n",
       "      <td>Student</td>\n",
       "      <td>None</td>\n",
       "      <td>Undeclared</td>\n",
       "    </tr>\n",
       "    <tr>\n",
       "      <th>3</th>\n",
       "      <td>2</td>\n",
       "      <td>Orry Row</td>\n",
       "      <td>Pamela</td>\n",
       "      <td>O'Connor</td>\n",
       "      <td>4</td>\n",
       "      <td>Daughter</td>\n",
       "      <td>Minor</td>\n",
       "      <td>Female</td>\n",
       "      <td>Child</td>\n",
       "      <td>None</td>\n",
       "      <td>Undeclared</td>\n",
       "    </tr>\n",
       "    <tr>\n",
       "      <th>6</th>\n",
       "      <td>3</td>\n",
       "      <td>Orry Row</td>\n",
       "      <td>Gregory</td>\n",
       "      <td>Walker</td>\n",
       "      <td>5</td>\n",
       "      <td>Step-Son</td>\n",
       "      <td>Minor</td>\n",
       "      <td>Male</td>\n",
       "      <td>Student</td>\n",
       "      <td>None</td>\n",
       "      <td>Undeclared</td>\n",
       "    </tr>\n",
       "    <tr>\n",
       "      <th>9</th>\n",
       "      <td>4</td>\n",
       "      <td>Orry Row</td>\n",
       "      <td>Clare</td>\n",
       "      <td>Brady</td>\n",
       "      <td>5</td>\n",
       "      <td>Granddaughter</td>\n",
       "      <td>Minor</td>\n",
       "      <td>Female</td>\n",
       "      <td>Student</td>\n",
       "      <td>None</td>\n",
       "      <td>Undeclared</td>\n",
       "    </tr>\n",
       "    <tr>\n",
       "      <th>14</th>\n",
       "      <td>7</td>\n",
       "      <td>Orry Row</td>\n",
       "      <td>Charlotte</td>\n",
       "      <td>Turnbull</td>\n",
       "      <td>9</td>\n",
       "      <td>Granddaughter</td>\n",
       "      <td>Minor</td>\n",
       "      <td>Female</td>\n",
       "      <td>Student</td>\n",
       "      <td>None</td>\n",
       "      <td>Undeclared</td>\n",
       "    </tr>\n",
       "    <tr>\n",
       "      <th>...</th>\n",
       "      <td>...</td>\n",
       "      <td>...</td>\n",
       "      <td>...</td>\n",
       "      <td>...</td>\n",
       "      <td>...</td>\n",
       "      <td>...</td>\n",
       "      <td>...</td>\n",
       "      <td>...</td>\n",
       "      <td>...</td>\n",
       "      <td>...</td>\n",
       "      <td>...</td>\n",
       "    </tr>\n",
       "    <tr>\n",
       "      <th>10474</th>\n",
       "      <td>1</td>\n",
       "      <td>Evans Villa</td>\n",
       "      <td>Philip</td>\n",
       "      <td>Davies</td>\n",
       "      <td>2</td>\n",
       "      <td>Son</td>\n",
       "      <td>Minor</td>\n",
       "      <td>Male</td>\n",
       "      <td>Child</td>\n",
       "      <td>None</td>\n",
       "      <td>Undeclared</td>\n",
       "    </tr>\n",
       "    <tr>\n",
       "      <th>10476</th>\n",
       "      <td>1</td>\n",
       "      <td>Lewis Abbey</td>\n",
       "      <td>Joshua</td>\n",
       "      <td>Kemp</td>\n",
       "      <td>9</td>\n",
       "      <td>Son</td>\n",
       "      <td>Minor</td>\n",
       "      <td>Male</td>\n",
       "      <td>Student</td>\n",
       "      <td>None</td>\n",
       "      <td>Undeclared</td>\n",
       "    </tr>\n",
       "    <tr>\n",
       "      <th>10477</th>\n",
       "      <td>1</td>\n",
       "      <td>Lewis Abbey</td>\n",
       "      <td>Graeme</td>\n",
       "      <td>Kemp</td>\n",
       "      <td>8</td>\n",
       "      <td>Son</td>\n",
       "      <td>Minor</td>\n",
       "      <td>Male</td>\n",
       "      <td>Student</td>\n",
       "      <td>None</td>\n",
       "      <td>Undeclared</td>\n",
       "    </tr>\n",
       "    <tr>\n",
       "      <th>10478</th>\n",
       "      <td>1</td>\n",
       "      <td>Lewis Abbey</td>\n",
       "      <td>Donald</td>\n",
       "      <td>Kemp</td>\n",
       "      <td>4</td>\n",
       "      <td>Son</td>\n",
       "      <td>Minor</td>\n",
       "      <td>Male</td>\n",
       "      <td>Child</td>\n",
       "      <td>None</td>\n",
       "      <td>Undeclared</td>\n",
       "    </tr>\n",
       "    <tr>\n",
       "      <th>10479</th>\n",
       "      <td>1</td>\n",
       "      <td>Lewis Abbey</td>\n",
       "      <td>Dylan</td>\n",
       "      <td>Kemp</td>\n",
       "      <td>3</td>\n",
       "      <td>Son</td>\n",
       "      <td>Minor</td>\n",
       "      <td>Male</td>\n",
       "      <td>Child</td>\n",
       "      <td>None</td>\n",
       "      <td>Undeclared</td>\n",
       "    </tr>\n",
       "  </tbody>\n",
       "</table>\n",
       "<p>2494 rows × 11 columns</p>\n",
       "</div>"
      ],
      "text/plain": [
       "      House Number       Street First Name   Surname  Age  \\\n",
       "2                2     Orry Row      Harry  O'Connor    7   \n",
       "3                2     Orry Row     Pamela  O'Connor    4   \n",
       "6                3     Orry Row    Gregory    Walker    5   \n",
       "9                4     Orry Row      Clare     Brady    5   \n",
       "14               7     Orry Row  Charlotte  Turnbull    9   \n",
       "...            ...          ...        ...       ...  ...   \n",
       "10474            1  Evans Villa     Philip    Davies    2   \n",
       "10476            1  Lewis Abbey     Joshua      Kemp    9   \n",
       "10477            1  Lewis Abbey     Graeme      Kemp    8   \n",
       "10478            1  Lewis Abbey     Donald      Kemp    4   \n",
       "10479            1  Lewis Abbey      Dylan      Kemp    3   \n",
       "\n",
       "      Relationship to Head of House Marital Status  Gender Occupation  \\\n",
       "2                               Son          Minor    Male    Student   \n",
       "3                          Daughter          Minor  Female      Child   \n",
       "6                          Step-Son          Minor    Male    Student   \n",
       "9                     Granddaughter          Minor  Female    Student   \n",
       "14                    Granddaughter          Minor  Female    Student   \n",
       "...                             ...            ...     ...        ...   \n",
       "10474                           Son          Minor    Male      Child   \n",
       "10476                           Son          Minor    Male    Student   \n",
       "10477                           Son          Minor    Male    Student   \n",
       "10478                           Son          Minor    Male      Child   \n",
       "10479                           Son          Minor    Male      Child   \n",
       "\n",
       "      Infirmity    Religion  \n",
       "2          None  Undeclared  \n",
       "3          None  Undeclared  \n",
       "6          None  Undeclared  \n",
       "9          None  Undeclared  \n",
       "14         None  Undeclared  \n",
       "...         ...         ...  \n",
       "10474      None  Undeclared  \n",
       "10476      None  Undeclared  \n",
       "10477      None  Undeclared  \n",
       "10478      None  Undeclared  \n",
       "10479      None  Undeclared  \n",
       "\n",
       "[2494 rows x 11 columns]"
      ]
     },
     "execution_count": 46,
     "metadata": {},
     "output_type": "execute_result"
    }
   ],
   "source": [
    "df.loc[df['Religion']=='Undeclared']"
   ]
  },
  {
   "cell_type": "code",
   "execution_count": 47,
   "id": "9ccf3fba",
   "metadata": {},
   "outputs": [
    {
     "data": {
      "text/plain": [
       "(array([0, 1, 2, 3, 4, 5, 6, 7, 8, 9]),\n",
       " [Text(0, 0, 'Christian'),\n",
       "  Text(1, 0, 'Undeclared'),\n",
       "  Text(2, 0, 'Agnostic'),\n",
       "  Text(3, 0, 'Muslim'),\n",
       "  Text(4, 0, 'Sikh'),\n",
       "  Text(5, 0, 'Jewish'),\n",
       "  Text(6, 0, 'Buddist'),\n",
       "  Text(7, 0, 'Pagan'),\n",
       "  Text(8, 0, 'Unknown'),\n",
       "  Text(9, 0, 'Hindu')])"
      ]
     },
     "execution_count": 47,
     "metadata": {},
     "output_type": "execute_result"
    },
    {
     "data": {
      "image/png": "[encoded data removed]",
      "text/plain": [
       "<Figure size 432x288 with 1 Axes>"
      ]
     },
     "metadata": {
      "needs_background": "light"
     },
     "output_type": "display_data"
    }
   ],
   "source": [
    "sns.countplot(x='Religion', data=df)\n",
    "plt.xticks(rotation=90)"
   ]
  },
  {
   "cell_type": "code",
   "execution_count": 48,
   "id": "ed8cf0ba",
   "metadata": {},
   "outputs": [
    {
     "data": {
      "text/plain": [
       "<AxesSubplot:xlabel='Age', ylabel='Religion'>"
      ]
     },
     "execution_count": 48,
     "metadata": {},
     "output_type": "execute_result"
    },
    {
     "data": {
      "image/png": "[encoded data removed]",
      "text/plain": [
       "<Figure size 432x288 with 1 Axes>"
      ]
     },
     "metadata": {
      "needs_background": "light"
     },
     "output_type": "display_data"
    }
   ],
   "source": [
    "sns.boxplot(data=df,y='Religion',x='Age')"
   ]
  },
  {
   "cell_type": "code",
   "execution_count": 116,
   "id": "ef1671d2",
   "metadata": {},
   "outputs": [],
   "source": [
    "christian=sum(df['Religion']=='Christian')"
   ]
  },
  {
   "cell_type": "code",
   "execution_count": 118,
   "id": "b90431b8",
   "metadata": {},
   "outputs": [
    {
     "data": {
      "text/plain": [
       "401.7175572519084"
      ]
     },
     "execution_count": 118,
     "metadata": {},
     "output_type": "execute_result"
    }
   ],
   "source": [
    "(christian/total)*1000"
   ]
  },
  {
   "cell_type": "code",
   "execution_count": 49,
   "id": "5ed7bd16",
   "metadata": {
    "scrolled": true
   },
   "outputs": [
    {
     "data": {
      "text/plain": [
       "<AxesSubplot:xlabel='Age', ylabel='Count'>"
      ]
     },
     "execution_count": 49,
     "metadata": {},
     "output_type": "execute_result"
    },
    {
     "data": {
      "image/png": "[encoded data removed]",
      "text/plain": [
       "<Figure size 432x288 with 1 Axes>"
      ]
     },
     "metadata": {
      "needs_background": "light"
     },
     "output_type": "display_data"
    }
   ],
   "source": [
    "sns.histplot(df,x='Age',hue='Gender', binwidth=5)"
   ]
  },
  {
   "cell_type": "code",
   "execution_count": 50,
   "id": "883c117a",
   "metadata": {},
   "outputs": [],
   "source": [
    "# sns.countplot(data=df,x='Age') #cant put bin_width"
   ]
  },
  {
   "cell_type": "code",
   "execution_count": 51,
   "id": "b8bcefeb",
   "metadata": {},
   "outputs": [
    {
     "data": {
      "text/plain": [
       "<seaborn.axisgrid.JointGrid at 0x1f57a7c9430>"
      ]
     },
     "execution_count": 51,
     "metadata": {},
     "output_type": "execute_result"
    },
    {
     "data": {
      "image/png": "[encoded data removed]",
      "text/plain": [
       "<Figure size 432x432 with 3 Axes>"
      ]
     },
     "metadata": {
      "needs_background": "light"
     },
     "output_type": "display_data"
    }
   ],
   "source": [
    "sns.jointplot(data=df,y='Marital Status',x='Age')"
   ]
  },
  {
   "cell_type": "code",
   "execution_count": 52,
   "id": "8c71e270",
   "metadata": {},
   "outputs": [
    {
     "data": {
      "text/plain": [
       "<AxesSubplot:xlabel='Age', ylabel='Marital Status'>"
      ]
     },
     "execution_count": 52,
     "metadata": {},
     "output_type": "execute_result"
    },
    {
     "data": {
      "image/png": "[encoded data removed]",
      "text/plain": [
       "<Figure size 432x288 with 1 Axes>"
      ]
     },
     "metadata": {
      "needs_background": "light"
     },
     "output_type": "display_data"
    }
   ],
   "source": [
    "sns.boxplot(data=df,y='Marital Status',x='Age')"
   ]
  },
  {
   "cell_type": "code",
   "execution_count": 53,
   "id": "eca44adc",
   "metadata": {},
   "outputs": [
    {
     "data": {
      "text/plain": [
       "count      10480\n",
       "unique         5\n",
       "top       Single\n",
       "freq        3705\n",
       "Name: Marital Status, dtype: object"
      ]
     },
     "execution_count": 53,
     "metadata": {},
     "output_type": "execute_result"
    }
   ],
   "source": [
    "df['Marital Status'].describe()"
   ]
  },
  {
   "cell_type": "code",
   "execution_count": null,
   "id": "b0500dc1",
   "metadata": {},
   "outputs": [],
   "source": []
  },
  {
   "cell_type": "code",
   "execution_count": 54,
   "id": "d36fe6cf",
   "metadata": {},
   "outputs": [
    {
     "data": {
      "text/plain": [
       "<AxesSubplot:xlabel='Age', ylabel='Count'>"
      ]
     },
     "execution_count": 54,
     "metadata": {},
     "output_type": "execute_result"
    },
    {
     "data": {
      "image/png": "[encoded data removed]",
      "text/plain": [
       "<Figure size 432x288 with 1 Axes>"
      ]
     },
     "metadata": {
      "needs_background": "light"
     },
     "output_type": "display_data"
    }
   ],
   "source": [
    "sns.histplot(df,x='Age',hue='Gender', binwidth=5)"
   ]
  },
  {
   "cell_type": "code",
   "execution_count": 55,
   "id": "d49719c9",
   "metadata": {},
   "outputs": [
    {
     "data": {
      "text/plain": [
       "95"
      ]
     },
     "execution_count": 55,
     "metadata": {},
     "output_type": "execute_result"
    }
   ],
   "source": [
    "sum(df['Age']==0)"
   ]
  },
  {
   "cell_type": "code",
   "execution_count": 56,
   "id": "82fecf3a",
   "metadata": {},
   "outputs": [
    {
     "data": {
      "text/plain": [
       "397"
      ]
     },
     "execution_count": 56,
     "metadata": {},
     "output_type": "execute_result"
    }
   ],
   "source": [
    "sum((df['Age'] >= 25) & (df['Age'] <=29) & (df['Gender']=='Female'))"
   ]
  },
  {
   "cell_type": "code",
   "execution_count": 57,
   "id": "b3e4b728",
   "metadata": {},
   "outputs": [
    {
     "data": {
      "text/plain": [
       "0.1292517006802721"
      ]
     },
     "execution_count": 57,
     "metadata": {},
     "output_type": "execute_result"
    }
   ],
   "source": [
    "95/735"
   ]
  },
  {
   "cell_type": "code",
   "execution_count": 58,
   "id": "33b6d2e8",
   "metadata": {},
   "outputs": [
    {
     "data": {
      "text/plain": [
       "12925.170068027212"
      ]
     },
     "execution_count": 58,
     "metadata": {},
     "output_type": "execute_result"
    }
   ],
   "source": [
    "(95/735)*100000"
   ]
  },
  {
   "cell_type": "code",
   "execution_count": 59,
   "id": "dc04d5b2",
   "metadata": {},
   "outputs": [
    {
     "data": {
      "text/html": [
       "<div>\n",
       "<style scoped>\n",
       "    .dataframe tbody tr th:only-of-type {\n",
       "        vertical-align: middle;\n",
       "    }\n",
       "\n",
       "    .dataframe tbody tr th {\n",
       "        vertical-align: top;\n",
       "    }\n",
       "\n",
       "    .dataframe thead th {\n",
       "        text-align: right;\n",
       "    }\n",
       "</style>\n",
       "<table border=\"1\" class=\"dataframe\">\n",
       "  <thead>\n",
       "    <tr style=\"text-align: right;\">\n",
       "      <th></th>\n",
       "      <th>House Number</th>\n",
       "      <th>Street</th>\n",
       "      <th>First Name</th>\n",
       "      <th>Surname</th>\n",
       "      <th>Age</th>\n",
       "      <th>Relationship to Head of House</th>\n",
       "      <th>Marital Status</th>\n",
       "      <th>Gender</th>\n",
       "      <th>Occupation</th>\n",
       "      <th>Infirmity</th>\n",
       "      <th>Religion</th>\n",
       "    </tr>\n",
       "  </thead>\n",
       "  <tbody>\n",
       "    <tr>\n",
       "      <th>633</th>\n",
       "      <td>12</td>\n",
       "      <td>Northumberland Avenue</td>\n",
       "      <td>Hollie</td>\n",
       "      <td>Johnson</td>\n",
       "      <td>15</td>\n",
       "      <td>Head</td>\n",
       "      <td>Married</td>\n",
       "      <td>Female</td>\n",
       "      <td>Student</td>\n",
       "      <td>None</td>\n",
       "      <td>Undeclared</td>\n",
       "    </tr>\n",
       "    <tr>\n",
       "      <th>6083</th>\n",
       "      <td>192</td>\n",
       "      <td>Kelly Pass</td>\n",
       "      <td>Amy</td>\n",
       "      <td>Smith</td>\n",
       "      <td>16</td>\n",
       "      <td>Head</td>\n",
       "      <td>Divorced</td>\n",
       "      <td>Female</td>\n",
       "      <td>Student</td>\n",
       "      <td>None</td>\n",
       "      <td>Undeclared</td>\n",
       "    </tr>\n",
       "  </tbody>\n",
       "</table>\n",
       "</div>"
      ],
      "text/plain": [
       "     House Number                 Street First Name  Surname  Age  \\\n",
       "633            12  Northumberland Avenue     Hollie  Johnson   15   \n",
       "6083          192             Kelly Pass        Amy    Smith   16   \n",
       "\n",
       "     Relationship to Head of House Marital Status  Gender Occupation  \\\n",
       "633                           Head        Married  Female    Student   \n",
       "6083                          Head       Divorced  Female    Student   \n",
       "\n",
       "     Infirmity    Religion  \n",
       "633       None  Undeclared  \n",
       "6083      None  Undeclared  "
      ]
     },
     "execution_count": 59,
     "metadata": {},
     "output_type": "execute_result"
    }
   ],
   "source": [
    "df.loc[(df['Age']>=0) & (df['Age']<=17) & (df['Marital Status'] != 'Minor')] # inconsistencies"
   ]
  },
  {
   "cell_type": "code",
   "execution_count": 60,
   "id": "c0955ea9",
   "metadata": {},
   "outputs": [
    {
     "data": {
      "text/html": [
       "<div>\n",
       "<style scoped>\n",
       "    .dataframe tbody tr th:only-of-type {\n",
       "        vertical-align: middle;\n",
       "    }\n",
       "\n",
       "    .dataframe tbody tr th {\n",
       "        vertical-align: top;\n",
       "    }\n",
       "\n",
       "    .dataframe thead th {\n",
       "        text-align: right;\n",
       "    }\n",
       "</style>\n",
       "<table border=\"1\" class=\"dataframe\">\n",
       "  <thead>\n",
       "    <tr style=\"text-align: right;\">\n",
       "      <th></th>\n",
       "      <th>House Number</th>\n",
       "      <th>Street</th>\n",
       "      <th>First Name</th>\n",
       "      <th>Surname</th>\n",
       "      <th>Age</th>\n",
       "      <th>Relationship to Head of House</th>\n",
       "      <th>Marital Status</th>\n",
       "      <th>Gender</th>\n",
       "      <th>Occupation</th>\n",
       "      <th>Infirmity</th>\n",
       "      <th>Religion</th>\n",
       "    </tr>\n",
       "  </thead>\n",
       "  <tbody>\n",
       "    <tr>\n",
       "      <th>1449</th>\n",
       "      <td>20</td>\n",
       "      <td>Summers Drive</td>\n",
       "      <td>Hannah</td>\n",
       "      <td>Jenkins</td>\n",
       "      <td>19</td>\n",
       "      <td>Daughter</td>\n",
       "      <td>Widowed</td>\n",
       "      <td>Female</td>\n",
       "      <td>Sports therapist</td>\n",
       "      <td>None</td>\n",
       "      <td>Agnostic</td>\n",
       "    </tr>\n",
       "    <tr>\n",
       "      <th>3057</th>\n",
       "      <td>7</td>\n",
       "      <td>Thomas Greens</td>\n",
       "      <td>Maurice</td>\n",
       "      <td>Pritchard</td>\n",
       "      <td>18</td>\n",
       "      <td>Son</td>\n",
       "      <td>Widowed</td>\n",
       "      <td>Male</td>\n",
       "      <td>Student</td>\n",
       "      <td>None</td>\n",
       "      <td>Agnostic</td>\n",
       "    </tr>\n",
       "    <tr>\n",
       "      <th>4623</th>\n",
       "      <td>88</td>\n",
       "      <td>Horton Drive</td>\n",
       "      <td>Mary</td>\n",
       "      <td>Elliott</td>\n",
       "      <td>20</td>\n",
       "      <td>Daughter</td>\n",
       "      <td>Widowed</td>\n",
       "      <td>Female</td>\n",
       "      <td>University Student</td>\n",
       "      <td>None</td>\n",
       "      <td>Christian</td>\n",
       "    </tr>\n",
       "    <tr>\n",
       "      <th>6213</th>\n",
       "      <td>13</td>\n",
       "      <td>Bassenthwaite Forks</td>\n",
       "      <td>Stanley</td>\n",
       "      <td>Waters</td>\n",
       "      <td>18</td>\n",
       "      <td>Son</td>\n",
       "      <td>Widowed</td>\n",
       "      <td>Male</td>\n",
       "      <td>Student</td>\n",
       "      <td>None</td>\n",
       "      <td>Agnostic</td>\n",
       "    </tr>\n",
       "    <tr>\n",
       "      <th>6378</th>\n",
       "      <td>2</td>\n",
       "      <td>Hart Fort</td>\n",
       "      <td>Elaine</td>\n",
       "      <td>Pugh</td>\n",
       "      <td>20</td>\n",
       "      <td>Daughter</td>\n",
       "      <td>Widowed</td>\n",
       "      <td>Female</td>\n",
       "      <td>Waste management officer</td>\n",
       "      <td>None</td>\n",
       "      <td>Christian</td>\n",
       "    </tr>\n",
       "    <tr>\n",
       "      <th>6575</th>\n",
       "      <td>13</td>\n",
       "      <td>Sheppard Avenue</td>\n",
       "      <td>Natasha</td>\n",
       "      <td>Hughes</td>\n",
       "      <td>20</td>\n",
       "      <td>Daughter</td>\n",
       "      <td>Widowed</td>\n",
       "      <td>Female</td>\n",
       "      <td>University Student</td>\n",
       "      <td>None</td>\n",
       "      <td>Agnostic</td>\n",
       "    </tr>\n",
       "    <tr>\n",
       "      <th>9352</th>\n",
       "      <td>17</td>\n",
       "      <td>Coventry Causeway</td>\n",
       "      <td>Garry</td>\n",
       "      <td>Barker</td>\n",
       "      <td>20</td>\n",
       "      <td>Son</td>\n",
       "      <td>Widowed</td>\n",
       "      <td>Male</td>\n",
       "      <td>University Student</td>\n",
       "      <td>None</td>\n",
       "      <td>Christian</td>\n",
       "    </tr>\n",
       "    <tr>\n",
       "      <th>10259</th>\n",
       "      <td>23</td>\n",
       "      <td>Butcher Glen</td>\n",
       "      <td>Joanne</td>\n",
       "      <td>Morris</td>\n",
       "      <td>19</td>\n",
       "      <td>None</td>\n",
       "      <td>Widowed</td>\n",
       "      <td>Female</td>\n",
       "      <td>University Student</td>\n",
       "      <td>None</td>\n",
       "      <td>Christian</td>\n",
       "    </tr>\n",
       "  </tbody>\n",
       "</table>\n",
       "</div>"
      ],
      "text/plain": [
       "      House Number               Street First Name    Surname  Age  \\\n",
       "1449            20        Summers Drive     Hannah    Jenkins   19   \n",
       "3057             7        Thomas Greens    Maurice  Pritchard   18   \n",
       "4623            88         Horton Drive       Mary    Elliott   20   \n",
       "6213            13  Bassenthwaite Forks    Stanley     Waters   18   \n",
       "6378             2            Hart Fort     Elaine       Pugh   20   \n",
       "6575            13      Sheppard Avenue    Natasha     Hughes   20   \n",
       "9352            17    Coventry Causeway      Garry     Barker   20   \n",
       "10259           23         Butcher Glen     Joanne     Morris   19   \n",
       "\n",
       "      Relationship to Head of House Marital Status  Gender  \\\n",
       "1449                       Daughter        Widowed  Female   \n",
       "3057                            Son        Widowed    Male   \n",
       "4623                       Daughter        Widowed  Female   \n",
       "6213                            Son        Widowed    Male   \n",
       "6378                       Daughter        Widowed  Female   \n",
       "6575                       Daughter        Widowed  Female   \n",
       "9352                            Son        Widowed    Male   \n",
       "10259                          None        Widowed  Female   \n",
       "\n",
       "                     Occupation Infirmity   Religion  \n",
       "1449           Sports therapist      None   Agnostic  \n",
       "3057                    Student      None   Agnostic  \n",
       "4623         University Student      None  Christian  \n",
       "6213                    Student      None   Agnostic  \n",
       "6378   Waste management officer      None  Christian  \n",
       "6575         University Student      None   Agnostic  \n",
       "9352         University Student      None  Christian  \n",
       "10259        University Student      None  Christian  "
      ]
     },
     "execution_count": 60,
     "metadata": {},
     "output_type": "execute_result"
    }
   ],
   "source": [
    "df.loc[(df['Age']>=0) & (df['Age']<=20) & (df['Marital Status'] == 'Widowed')]"
   ]
  },
  {
   "cell_type": "code",
   "execution_count": 61,
   "id": "63598696",
   "metadata": {},
   "outputs": [],
   "source": []
  },
  {
   "cell_type": "markdown",
   "id": "d4fdf43d",
   "metadata": {},
   "source": [
    "# AGE PYRAMID"
   ]
  },
  {
   "cell_type": "code",
   "execution_count": 63,
   "id": "c4e71341",
   "metadata": {},
   "outputs": [
    {
     "name": "stdout",
     "output_type": "stream",
     "text": [
      "[674, 751, 725, 719, 721, 609, 396, 239, 118, 14, 10]\n",
      "[611, 768, 798, 914, 878, 683, 424, 276, 124, 19, 10]\n"
     ]
    }
   ],
   "source": [
    "age0to9 = (df['Age'] >= 0) & (df['Age'] <= 9) & (df['Gender'] == 'Male')\n",
    "age10to19 = (df['Age'] >= 10) & (df['Age'] <= 19) & (df['Gender'] == 'Male')\n",
    "age20to29 = (df['Age'] >= 20) & (df['Age'] <= 29) & (df['Gender'] == 'Male')\n",
    "age30to39 = (df['Age'] >= 30) & (df['Age'] <= 39) & (df['Gender'] == 'Male')\n",
    "age40to49 = (df['Age'] >= 40) & (df['Age'] <= 49) & (df['Gender'] == 'Male')\n",
    "age50to59 = (df['Age'] >= 50) & (df['Age'] <= 59) & (df['Gender'] == 'Male')\n",
    "age60to69 = (df['Age'] >= 60) & (df['Age'] <= 69) & (df['Gender'] == 'Male')\n",
    "age70to79 = (df['Age'] >= 70) & (df['Age'] <= 79) & (df['Gender'] == 'Male')\n",
    "age80to89 = (df['Age'] >= 80) & (df['Age'] <= 89) & (df['Gender'] == 'Male')\n",
    "age90to99 = (df['Age'] >= 90) & (df['Age'] <= 99) & (df['Gender'] == 'Male')\n",
    "age100 = (df['Age'] >= 100) & (df['Gender'] == 'Male')\n",
    "Male2 = [sum(age0to9), sum(age10to19), sum(age20to29), sum(age30to39), sum(age40to49), sum(age50to59),sum(age60to69), sum(age70to79),sum(age80to89),sum(age90to99),sum(age100) ]\n",
    "print(Male2)\n",
    "\n",
    "fage0to9 = (df['Age'] >= 0) & (df['Age'] <= 9) & (df['Gender'] == 'Female')\n",
    "fage10to19 = (df['Age'] >= 10) & (df['Age'] <= 19) & (df['Gender'] == 'Female')\n",
    "fage20to29 = (df['Age'] >= 20) & (df['Age'] <= 29) & (df['Gender'] == 'Female')\n",
    "fage30to39 = (df['Age'] >= 30) & (df['Age'] <= 39) & (df['Gender'] == 'Female')\n",
    "fage40to49 = (df['Age'] >= 40) & (df['Age'] <= 49) & (df['Gender'] == 'Female')\n",
    "fage50to59 = (df['Age'] >= 50) & (df['Age'] <= 59) & (df['Gender'] == 'Female')\n",
    "fage60to69 = (df['Age'] >= 60) & (df['Age'] <= 69) & (df['Gender'] == 'Female')\n",
    "fage70to79 = (df['Age'] >= 70) & (df['Age'] <= 79) & (df['Gender'] == 'Female')\n",
    "fage80to89 = (df['Age'] >= 80) & (df['Age'] <= 89) & (df['Gender'] == 'Female')\n",
    "fage90to99 = (df['Age'] >= 90) & (df['Age'] <= 99) & (df['Gender'] == 'Female')\n",
    "fage100 = (df['Age'] >= 100) & (df['Gender'] == 'Male')\n",
    "Female1 = [sum(fage0to9), sum(fage10to19), sum(fage20to29), sum(fage30to39), sum(fage40to49), sum(fage50to59),sum(fage60to69), sum(fage70to79),sum(fage80to89),sum(fage90to99),sum(fage100) ]\n",
    "print(Female1)\n",
    "\n",
    "age_p = pd.DataFrame({'Age': ['100+', '90-99', '80-89', '70-79', '60-69', '50-59', '40-49', \n",
    "'30-39', '20-29', '10-19', '0-9'], \n",
    " 'Male': [-10, -14, -118, -239, -396, -609, -721, -719, -725, -751, -674], \n",
    " 'Female': [10, 19, 124, 276, 424, 683, 878, 914, 798, 768, 611]})\n"
   ]
  },
  {
   "cell_type": "code",
   "execution_count": 64,
   "id": "fa4109a0",
   "metadata": {},
   "outputs": [
    {
     "data": {
      "text/plain": [
       "[Text(0.5, 0, 'POPULATION COUNT'), Text(0, 0.5, 'AGE GROUP')]"
      ]
     },
     "execution_count": 64,
     "metadata": {},
     "output_type": "execute_result"
    },
    {
     "data": {
      "image/png": "[encoded data removed]",
      "text/plain": [
       "<Figure size 432x288 with 1 Axes>"
      ]
     },
     "metadata": {
      "needs_background": "light"
     },
     "output_type": "display_data"
    }
   ],
   "source": [
    "age_class=['110-119', '100-109', '90-99', '80-89', '70-79', '60-69', '50-59','40-49','30-39', '20-29', '10-19', '0-9']\n",
    "age_pyramid=sns.barplot(x='Male', y='Age', data=age_p, order=age_class, color=('mediumblue'), label='Male')\n",
    "age_pyramid=sns.barplot(x='Female', y='Age', data=age_p, order=age_class, color=('darkorange'), label='Female')\n",
    "age_pyramid.legend()\n",
    "plt.title('AGE PYRAMID')\n",
    "age_pyramid.set(xlabel='POPULATION COUNT', ylabel='AGE GROUP')"
   ]
  },
  {
   "cell_type": "code",
   "execution_count": 65,
   "id": "1ceb93b7",
   "metadata": {},
   "outputs": [
    {
     "data": {
      "text/plain": [
       "10480"
      ]
     },
     "execution_count": 65,
     "metadata": {},
     "output_type": "execute_result"
    }
   ],
   "source": [
    "total=len(df)\n",
    "total"
   ]
  },
  {
   "cell_type": "markdown",
   "id": "2cb3c4bd",
   "metadata": {},
   "source": [
    "# BIRTH RATE"
   ]
  },
  {
   "cell_type": "code",
   "execution_count": 66,
   "id": "9bff45cb",
   "metadata": {},
   "outputs": [],
   "source": [
    "babies0=df['Age']==0\n",
    "babies4=df['Age']==4"
   ]
  },
  {
   "cell_type": "code",
   "execution_count": 150,
   "id": "847b7abd",
   "metadata": {},
   "outputs": [
    {
     "data": {
      "text/plain": [
       "9.064885496183205"
      ]
     },
     "execution_count": 150,
     "metadata": {},
     "output_type": "execute_result"
    }
   ],
   "source": [
    "crude_br=(sum(babies0)/total)*1000\n",
    "crude_br"
   ]
  },
  {
   "cell_type": "code",
   "execution_count": 68,
   "id": "2ca11622",
   "metadata": {},
   "outputs": [
    {
     "data": {
      "text/plain": [
       "13.16793893129771"
      ]
     },
     "execution_count": 68,
     "metadata": {},
     "output_type": "execute_result"
    }
   ],
   "source": [
    "cbr4=(sum(babies4)/total)*1000\n",
    "cbr4"
   ]
  },
  {
   "cell_type": "code",
   "execution_count": 69,
   "id": "8c2af0d6",
   "metadata": {},
   "outputs": [
    {
     "data": {
      "text/plain": [
       "-4.103053435114505"
      ]
     },
     "execution_count": 69,
     "metadata": {},
     "output_type": "execute_result"
    }
   ],
   "source": [
    "change_in_br=(cbr-cbr4)\n",
    "change_in_br"
   ]
  },
  {
   "cell_type": "code",
   "execution_count": 70,
   "id": "93e89516",
   "metadata": {},
   "outputs": [],
   "source": [
    "age2529=(df['Age'].between(25,29)) & (df['Gender']=='Female')\n",
    "age3034=(df['Age'].between(30,34)) & (df['Gender']=='Female')"
   ]
  },
  {
   "cell_type": "code",
   "execution_count": 71,
   "id": "72b3c2fc",
   "metadata": {},
   "outputs": [],
   "source": [
    "asfr2529=(sum(babies0)/sum(age2529))*1000\n",
    "asfr3034=(sum(babies4)/sum(age3034))*1000"
   ]
  },
  {
   "cell_type": "code",
   "execution_count": 72,
   "id": "7b643412",
   "metadata": {},
   "outputs": [
    {
     "name": "stdout",
     "output_type": "stream",
     "text": [
      "239.29471032745593\n",
      "308.7248322147651\n"
     ]
    }
   ],
   "source": [
    "print(asfr2529)\n",
    "print(asfr3034)"
   ]
  },
  {
   "cell_type": "code",
   "execution_count": 73,
   "id": "0f8d0a52",
   "metadata": {},
   "outputs": [],
   "source": [
    "tot_birth=(sum(babies0) + sum(babies4))\n",
    "tot_age=(sum(age2529) + sum(age3034))\n",
    "gfr=(tot_birth/tot_age)*1000"
   ]
  },
  {
   "cell_type": "code",
   "execution_count": 74,
   "id": "98868314",
   "metadata": {},
   "outputs": [
    {
     "name": "stdout",
     "output_type": "stream",
     "text": [
      "The general fertility rate is:276.06635071090045\n"
     ]
    }
   ],
   "source": [
    "print(f'The general fertility rate is:{gfr}')"
   ]
  },
  {
   "cell_type": "code",
   "execution_count": null,
   "id": "2319ccd6",
   "metadata": {},
   "outputs": [],
   "source": []
  },
  {
   "cell_type": "code",
   "execution_count": 78,
   "id": "338098a2",
   "metadata": {},
   "outputs": [
    {
     "data": {
      "text/plain": [
       "Age\n",
       "99     6\n",
       "98     4\n",
       "97     2\n",
       "96     4\n",
       "95     2\n",
       "94     4\n",
       "93     2\n",
       "92     5\n",
       "91     1\n",
       "90     3\n",
       "89     9\n",
       "88     9\n",
       "87    14\n",
       "86    21\n",
       "85    14\n",
       "84    27\n",
       "83    32\n",
       "82    25\n",
       "81    48\n",
       "80    43\n",
       "79    38\n",
       "78    31\n",
       "77    50\n",
       "76    49\n",
       "75    38\n",
       "74    61\n",
       "73    49\n",
       "72    67\n",
       "71    69\n",
       "70    63\n",
       "69    58\n",
       "68    58\n",
       "67    65\n",
       "66    67\n",
       "65    70\n",
       "dtype: int64"
      ]
     },
     "execution_count": 78,
     "metadata": {},
     "output_type": "execute_result"
    }
   ],
   "source": [
    "agepop=df[df['Age'].between(65,99)].groupby('Age').size().sort_index(ascending=False)\n",
    "agepop"
   ]
  },
  {
   "cell_type": "code",
   "execution_count": 79,
   "id": "472089a3",
   "metadata": {},
   "outputs": [
    {
     "data": {
      "text/plain": [
       "Age\n",
       "99     4.0\n",
       "98     2.0\n",
       "97     4.0\n",
       "96     2.0\n",
       "95     4.0\n",
       "94     2.0\n",
       "93     5.0\n",
       "92     1.0\n",
       "91     3.0\n",
       "90     9.0\n",
       "89     9.0\n",
       "88    14.0\n",
       "87    21.0\n",
       "86    14.0\n",
       "85    27.0\n",
       "84    32.0\n",
       "83    25.0\n",
       "82    48.0\n",
       "81    43.0\n",
       "80    38.0\n",
       "79    31.0\n",
       "78    50.0\n",
       "77    49.0\n",
       "76    38.0\n",
       "75    61.0\n",
       "74    49.0\n",
       "73    67.0\n",
       "72    69.0\n",
       "71    63.0\n",
       "70    58.0\n",
       "69    58.0\n",
       "68    65.0\n",
       "67    67.0\n",
       "66    70.0\n",
       "65     NaN\n",
       "dtype: float64"
      ]
     },
     "execution_count": 79,
     "metadata": {},
     "output_type": "execute_result"
    }
   ],
   "source": [
    "shiftage=agepop.shift(-1)\n",
    "shiftage"
   ]
  },
  {
   "cell_type": "code",
   "execution_count": 80,
   "id": "fd329353",
   "metadata": {},
   "outputs": [],
   "source": [
    "diff=agepop-shiftage\n",
    "diff=diff.reset_index(name='Count')\n",
    "deaths=diff[diff['Count']<0]"
   ]
  },
  {
   "cell_type": "code",
   "execution_count": 81,
   "id": "29b0e83f",
   "metadata": {},
   "outputs": [
    {
     "data": {
      "text/html": [
       "<div>\n",
       "<style scoped>\n",
       "    .dataframe tbody tr th:only-of-type {\n",
       "        vertical-align: middle;\n",
       "    }\n",
       "\n",
       "    .dataframe tbody tr th {\n",
       "        vertical-align: top;\n",
       "    }\n",
       "\n",
       "    .dataframe thead th {\n",
       "        text-align: right;\n",
       "    }\n",
       "</style>\n",
       "<table border=\"1\" class=\"dataframe\">\n",
       "  <thead>\n",
       "    <tr style=\"text-align: right;\">\n",
       "      <th></th>\n",
       "      <th>Age</th>\n",
       "      <th>Count</th>\n",
       "    </tr>\n",
       "  </thead>\n",
       "  <tbody>\n",
       "    <tr>\n",
       "      <th>2</th>\n",
       "      <td>97</td>\n",
       "      <td>-2.0</td>\n",
       "    </tr>\n",
       "    <tr>\n",
       "      <th>4</th>\n",
       "      <td>95</td>\n",
       "      <td>-2.0</td>\n",
       "    </tr>\n",
       "    <tr>\n",
       "      <th>6</th>\n",
       "      <td>93</td>\n",
       "      <td>-3.0</td>\n",
       "    </tr>\n",
       "    <tr>\n",
       "      <th>8</th>\n",
       "      <td>91</td>\n",
       "      <td>-2.0</td>\n",
       "    </tr>\n",
       "    <tr>\n",
       "      <th>9</th>\n",
       "      <td>90</td>\n",
       "      <td>-6.0</td>\n",
       "    </tr>\n",
       "    <tr>\n",
       "      <th>11</th>\n",
       "      <td>88</td>\n",
       "      <td>-5.0</td>\n",
       "    </tr>\n",
       "    <tr>\n",
       "      <th>12</th>\n",
       "      <td>87</td>\n",
       "      <td>-7.0</td>\n",
       "    </tr>\n",
       "    <tr>\n",
       "      <th>14</th>\n",
       "      <td>85</td>\n",
       "      <td>-13.0</td>\n",
       "    </tr>\n",
       "    <tr>\n",
       "      <th>15</th>\n",
       "      <td>84</td>\n",
       "      <td>-5.0</td>\n",
       "    </tr>\n",
       "    <tr>\n",
       "      <th>17</th>\n",
       "      <td>82</td>\n",
       "      <td>-23.0</td>\n",
       "    </tr>\n",
       "    <tr>\n",
       "      <th>21</th>\n",
       "      <td>78</td>\n",
       "      <td>-19.0</td>\n",
       "    </tr>\n",
       "    <tr>\n",
       "      <th>24</th>\n",
       "      <td>75</td>\n",
       "      <td>-23.0</td>\n",
       "    </tr>\n",
       "    <tr>\n",
       "      <th>26</th>\n",
       "      <td>73</td>\n",
       "      <td>-18.0</td>\n",
       "    </tr>\n",
       "    <tr>\n",
       "      <th>27</th>\n",
       "      <td>72</td>\n",
       "      <td>-2.0</td>\n",
       "    </tr>\n",
       "    <tr>\n",
       "      <th>31</th>\n",
       "      <td>68</td>\n",
       "      <td>-7.0</td>\n",
       "    </tr>\n",
       "    <tr>\n",
       "      <th>32</th>\n",
       "      <td>67</td>\n",
       "      <td>-2.0</td>\n",
       "    </tr>\n",
       "    <tr>\n",
       "      <th>33</th>\n",
       "      <td>66</td>\n",
       "      <td>-3.0</td>\n",
       "    </tr>\n",
       "  </tbody>\n",
       "</table>\n",
       "</div>"
      ],
      "text/plain": [
       "    Age  Count\n",
       "2    97   -2.0\n",
       "4    95   -2.0\n",
       "6    93   -3.0\n",
       "8    91   -2.0\n",
       "9    90   -6.0\n",
       "11   88   -5.0\n",
       "12   87   -7.0\n",
       "14   85  -13.0\n",
       "15   84   -5.0\n",
       "17   82  -23.0\n",
       "21   78  -19.0\n",
       "24   75  -23.0\n",
       "26   73  -18.0\n",
       "27   72   -2.0\n",
       "31   68   -7.0\n",
       "32   67   -2.0\n",
       "33   66   -3.0"
      ]
     },
     "execution_count": 81,
     "metadata": {},
     "output_type": "execute_result"
    }
   ],
   "source": [
    "deaths"
   ]
  },
  {
   "cell_type": "code",
   "execution_count": 151,
   "id": "27d60d98",
   "metadata": {},
   "outputs": [
    {
     "data": {
      "text/plain": [
       "13.549618320610687"
      ]
     },
     "execution_count": 151,
     "metadata": {},
     "output_type": "execute_result"
    }
   ],
   "source": [
    "death_rate=abs((sum(deaths['Count']))/total)*1000\n",
    "death_rate"
   ]
  },
  {
   "cell_type": "code",
   "execution_count": 83,
   "id": "b8ef1795",
   "metadata": {},
   "outputs": [
    {
     "data": {
      "text/plain": [
       "-4.484732824427482"
      ]
     },
     "execution_count": 83,
     "metadata": {},
     "output_type": "execute_result"
    }
   ],
   "source": [
    "cgr=(cbr-dr)\n",
    "cgr"
   ]
  },
  {
   "cell_type": "code",
   "execution_count": 84,
   "id": "90bd7e5d",
   "metadata": {},
   "outputs": [
    {
     "data": {
      "text/plain": [
       "-0.4484732824427482"
      ]
     },
     "execution_count": 84,
     "metadata": {},
     "output_type": "execute_result"
    }
   ],
   "source": [
    "cgr/10"
   ]
  },
  {
   "cell_type": "code",
   "execution_count": 85,
   "id": "2f0b19ec",
   "metadata": {},
   "outputs": [],
   "source": [
    "#commuters"
   ]
  },
  {
   "cell_type": "code",
   "execution_count": 88,
   "id": "c2d3bf44",
   "metadata": {},
   "outputs": [
    {
     "data": {
      "text/plain": [
       "1135"
      ]
     },
     "execution_count": 88,
     "metadata": {},
     "output_type": "execute_result"
    }
   ],
   "source": [
    "len(occupation_list)"
   ]
  },
  {
   "cell_type": "code",
   "execution_count": 138,
   "id": "38466060",
   "metadata": {},
   "outputs": [
    {
     "data": {
      "text/plain": [
       "65.7442748091603"
      ]
     },
     "execution_count": 138,
     "metadata": {},
     "output_type": "execute_result"
    }
   ],
   "source": [
    "comm=df[df['Occupation']=='University Student']\n",
    "(len(comm)/total)*1000"
   ]
  },
  {
   "cell_type": "code",
   "execution_count": 90,
   "id": "59c9beb1",
   "metadata": {},
   "outputs": [],
   "source": []
  },
  {
   "cell_type": "code",
   "execution_count": null,
   "id": "452eae72",
   "metadata": {},
   "outputs": [],
   "source": []
  },
  {
   "cell_type": "code",
   "execution_count": null,
   "id": "a50ae955",
   "metadata": {},
   "outputs": [],
   "source": []
  },
  {
   "cell_type": "code",
   "execution_count": 92,
   "id": "9915ef82",
   "metadata": {},
   "outputs": [
    {
     "data": {
      "text/plain": [
       "65.7442748091603"
      ]
     },
     "execution_count": 92,
     "metadata": {},
     "output_type": "execute_result"
    }
   ],
   "source": [
    "((len(comm))/total)*1000"
   ]
  },
  {
   "cell_type": "code",
   "execution_count": 93,
   "id": "18b61afc",
   "metadata": {
    "scrolled": false
   },
   "outputs": [],
   "source": [
    "commuters=df[df['Occupation'].isin(['University Student','Airline pilot', 'Engineer, aeronautical','Air cabin crew','Transport planner','Hydrogeologist','Pilot, airline','Hydrologist','Oceanographer'])]"
   ]
  },
  {
   "cell_type": "code",
   "execution_count": 94,
   "id": "617f7334",
   "metadata": {},
   "outputs": [
    {
     "data": {
      "text/plain": [
       "71.66030534351145"
      ]
     },
     "execution_count": 94,
     "metadata": {},
     "output_type": "execute_result"
    }
   ],
   "source": [
    "(len(commuters)/total)*1000"
   ]
  },
  {
   "cell_type": "code",
   "execution_count": 140,
   "id": "9598634c",
   "metadata": {},
   "outputs": [],
   "source": [
    "df['Employed']=df['Occupation'].apply(lambda x: x.split(' ')[0])"
   ]
  },
  {
   "cell_type": "code",
   "execution_count": null,
   "id": "b92959cb",
   "metadata": {},
   "outputs": [],
   "source": []
  },
  {
   "cell_type": "code",
   "execution_count": 97,
   "id": "65505f43",
   "metadata": {},
   "outputs": [],
   "source": [
    "retired2=sum((df['Occupation']=='Unemployed') & (df['Age']>=65))"
   ]
  },
  {
   "cell_type": "code",
   "execution_count": 98,
   "id": "59dfaff6",
   "metadata": {},
   "outputs": [],
   "source": [
    "retired=len(df[df['Employed']=='Retired'])"
   ]
  },
  {
   "cell_type": "code",
   "execution_count": 142,
   "id": "d6d45162",
   "metadata": {},
   "outputs": [
    {
     "data": {
      "text/plain": [
       "945"
      ]
     },
     "execution_count": 142,
     "metadata": {},
     "output_type": "execute_result"
    }
   ],
   "source": [
    "total_retired=retired+retired2\n",
    "total_retired"
   ]
  },
  {
   "cell_type": "code",
   "execution_count": 143,
   "id": "b094f08a",
   "metadata": {},
   "outputs": [
    {
     "data": {
      "text/plain": [
       "90.17175572519085"
      ]
     },
     "execution_count": 143,
     "metadata": {},
     "output_type": "execute_result"
    }
   ],
   "source": [
    "((total_retired)/total)*1000"
   ]
  },
  {
   "cell_type": "code",
   "execution_count": 101,
   "id": "4851a9b2",
   "metadata": {},
   "outputs": [],
   "source": [
    "umemployed=sum((df['Occupation']=='Unemployed') & (df['Age']<65))"
   ]
  },
  {
   "cell_type": "code",
   "execution_count": 102,
   "id": "7053752e",
   "metadata": {},
   "outputs": [
    {
     "data": {
      "text/plain": [
       "59.541984732824424"
      ]
     },
     "execution_count": 102,
     "metadata": {},
     "output_type": "execute_result"
    }
   ],
   "source": [
    "(umemployed/total)*1000"
   ]
  },
  {
   "cell_type": "code",
   "execution_count": 139,
   "id": "2f0f5fa2",
   "metadata": {},
   "outputs": [
    {
     "data": {
      "text/plain": [
       "65.7442748091603"
      ]
     },
     "execution_count": 139,
     "metadata": {},
     "output_type": "execute_result"
    }
   ],
   "source": [
    "comm=df[df['Occupation']=='University Student']\n",
    "(len(comm)/total)*1000"
   ]
  },
  {
   "cell_type": "code",
   "execution_count": null,
   "id": "7be39192",
   "metadata": {},
   "outputs": [],
   "source": []
  },
  {
   "cell_type": "markdown",
   "id": "105036bf",
   "metadata": {},
   "source": [
    "# CALCULATING IMMIGRATION AND EMIGRATION"
   ]
  },
  {
   "cell_type": "code",
   "execution_count": 104,
   "id": "f5c04dd1",
   "metadata": {},
   "outputs": [
    {
     "data": {
      "text/plain": [
       "397"
      ]
     },
     "execution_count": 104,
     "metadata": {},
     "output_type": "execute_result"
    }
   ],
   "source": [
    "lodger=df['Relationship to Head of House']=='Lodger'\n",
    "visitor=df['Relationship to Head of House']=='Visitor'\n",
    "immigrants=sum(lodger) + sum(visitor)\n",
    "immigrants"
   ]
  },
  {
   "cell_type": "code",
   "execution_count": 147,
   "id": "7b0562df",
   "metadata": {},
   "outputs": [
    {
     "data": {
      "text/plain": [
       "37.88167938931298"
      ]
     },
     "execution_count": 147,
     "metadata": {},
     "output_type": "execute_result"
    }
   ],
   "source": [
    "immi_rate=(immigrants/total)*1000\n",
    "immi_rate"
   ]
  },
  {
   "cell_type": "code",
   "execution_count": 106,
   "id": "0df87f15",
   "metadata": {},
   "outputs": [],
   "source": [
    "male_dvc=(df['Marital Status']=='Divorced') & (df['Gender']=='Male')\n",
    "female_dvc=(df['Marital Status']=='Divorced') & (df['Gender']=='Female')"
   ]
  },
  {
   "cell_type": "code",
   "execution_count": 123,
   "id": "4853cc31",
   "metadata": {},
   "outputs": [
    {
     "data": {
      "text/plain": [
       "386"
      ]
     },
     "execution_count": 123,
     "metadata": {},
     "output_type": "execute_result"
    }
   ],
   "source": [
    "sum(male_dvc)"
   ]
  },
  {
   "cell_type": "code",
   "execution_count": 124,
   "id": "4310d353",
   "metadata": {},
   "outputs": [
    {
     "data": {
      "text/plain": [
       "578"
      ]
     },
     "execution_count": 124,
     "metadata": {},
     "output_type": "execute_result"
    }
   ],
   "source": [
    "sum(female_dvc)"
   ]
  },
  {
   "cell_type": "code",
   "execution_count": 148,
   "id": "044a1d91",
   "metadata": {},
   "outputs": [
    {
     "data": {
      "text/plain": [
       "18.320610687022903"
      ]
     },
     "execution_count": 148,
     "metadata": {},
     "output_type": "execute_result"
    }
   ],
   "source": [
    "emmigrants=sum(female_dvc)-sum(male_dvc)\n",
    "emi_rate=(emmigrants/total)*1000\n",
    "emi_rate"
   ]
  },
  {
   "cell_type": "code",
   "execution_count": 149,
   "id": "215ef66b",
   "metadata": {},
   "outputs": [
    {
     "data": {
      "text/plain": [
       "15.076335877862597"
      ]
     },
     "execution_count": 149,
     "metadata": {},
     "output_type": "execute_result"
    }
   ],
   "source": [
    "#population change\n",
    "pop_change=(cbr+immi_rate)-(dr+emi_rate)\n",
    "pop_change"
   ]
  },
  {
   "cell_type": "code",
   "execution_count": 108,
   "id": "cad36b84",
   "metadata": {},
   "outputs": [
    {
     "data": {
      "text/html": [
       "<div>\n",
       "<style scoped>\n",
       "    .dataframe tbody tr th:only-of-type {\n",
       "        vertical-align: middle;\n",
       "    }\n",
       "\n",
       "    .dataframe tbody tr th {\n",
       "        vertical-align: top;\n",
       "    }\n",
       "\n",
       "    .dataframe thead th {\n",
       "        text-align: right;\n",
       "    }\n",
       "</style>\n",
       "<table border=\"1\" class=\"dataframe\">\n",
       "  <thead>\n",
       "    <tr style=\"text-align: right;\">\n",
       "      <th></th>\n",
       "      <th>House Number</th>\n",
       "      <th>Street</th>\n",
       "      <th>Occupancy Count</th>\n",
       "    </tr>\n",
       "  </thead>\n",
       "  <tbody>\n",
       "    <tr>\n",
       "      <th>0</th>\n",
       "      <td>1</td>\n",
       "      <td>Alba Keys</td>\n",
       "      <td>2</td>\n",
       "    </tr>\n",
       "    <tr>\n",
       "      <th>1</th>\n",
       "      <td>1</td>\n",
       "      <td>Arch Avenue</td>\n",
       "      <td>3</td>\n",
       "    </tr>\n",
       "    <tr>\n",
       "      <th>2</th>\n",
       "      <td>1</td>\n",
       "      <td>Ash Estates</td>\n",
       "      <td>1</td>\n",
       "    </tr>\n",
       "    <tr>\n",
       "      <th>3</th>\n",
       "      <td>1</td>\n",
       "      <td>Autumn Shoal</td>\n",
       "      <td>3</td>\n",
       "    </tr>\n",
       "    <tr>\n",
       "      <th>4</th>\n",
       "      <td>1</td>\n",
       "      <td>Bailey Islands</td>\n",
       "      <td>5</td>\n",
       "    </tr>\n",
       "    <tr>\n",
       "      <th>...</th>\n",
       "      <td>...</td>\n",
       "      <td>...</td>\n",
       "      <td>...</td>\n",
       "    </tr>\n",
       "    <tr>\n",
       "      <th>3744</th>\n",
       "      <td>99</td>\n",
       "      <td>Coventry Causeway</td>\n",
       "      <td>4</td>\n",
       "    </tr>\n",
       "    <tr>\n",
       "      <th>3745</th>\n",
       "      <td>99</td>\n",
       "      <td>Horton Drive</td>\n",
       "      <td>2</td>\n",
       "    </tr>\n",
       "    <tr>\n",
       "      <th>3746</th>\n",
       "      <td>99</td>\n",
       "      <td>Kelly Pass</td>\n",
       "      <td>1</td>\n",
       "    </tr>\n",
       "    <tr>\n",
       "      <th>3747</th>\n",
       "      <td>99</td>\n",
       "      <td>Newfound Corner</td>\n",
       "      <td>2</td>\n",
       "    </tr>\n",
       "    <tr>\n",
       "      <th>3748</th>\n",
       "      <td>99</td>\n",
       "      <td>Thomas Greens</td>\n",
       "      <td>5</td>\n",
       "    </tr>\n",
       "  </tbody>\n",
       "</table>\n",
       "<p>3749 rows × 3 columns</p>\n",
       "</div>"
      ],
      "text/plain": [
       "     House Number             Street  Occupancy Count\n",
       "0               1          Alba Keys                2\n",
       "1               1        Arch Avenue                3\n",
       "2               1        Ash Estates                1\n",
       "3               1       Autumn Shoal                3\n",
       "4               1     Bailey Islands                5\n",
       "...           ...                ...              ...\n",
       "3744           99  Coventry Causeway                4\n",
       "3745           99       Horton Drive                2\n",
       "3746           99         Kelly Pass                1\n",
       "3747           99    Newfound Corner                2\n",
       "3748           99      Thomas Greens                5\n",
       "\n",
       "[3749 rows x 3 columns]"
      ]
     },
     "execution_count": 108,
     "metadata": {},
     "output_type": "execute_result"
    }
   ],
   "source": [
    "hhd_df= df.groupby(['House Number', 'Street']).size().reset_index(name='Occupancy Count')\n",
    "hhd_df"
   ]
  },
  {
   "cell_type": "code",
   "execution_count": 109,
   "id": "cee33b1e",
   "metadata": {},
   "outputs": [],
   "source": [
    "mode=hhd_df['Occupancy Count'].mode()"
   ]
  },
  {
   "cell_type": "code",
   "execution_count": 110,
   "id": "95ecc443",
   "metadata": {},
   "outputs": [],
   "source": [
    "mean=hhd_df['Occupancy Count'].mean()"
   ]
  },
  {
   "cell_type": "code",
   "execution_count": 119,
   "id": "f8ac53a4",
   "metadata": {},
   "outputs": [],
   "source": [
    "housing_density= mode - mean"
   ]
  },
  {
   "cell_type": "code",
   "execution_count": 120,
   "id": "25c7f5ea",
   "metadata": {},
   "outputs": [
    {
     "data": {
      "text/plain": [
       "0   -1.795412\n",
       "dtype: float64"
      ]
     },
     "execution_count": 120,
     "metadata": {},
     "output_type": "execute_result"
    }
   ],
   "source": [
    "housing_density"
   ]
  },
  {
   "cell_type": "code",
   "execution_count": 113,
   "id": "9809f7aa",
   "metadata": {},
   "outputs": [
    {
     "name": "stdout",
     "output_type": "stream",
     "text": [
      "<class 'pandas.core.frame.DataFrame'>\n",
      "RangeIndex: 10480 entries, 0 to 10479\n",
      "Data columns (total 12 columns):\n",
      " #   Column                         Non-Null Count  Dtype \n",
      "---  ------                         --------------  ----- \n",
      " 0   House Number                   10480 non-null  object\n",
      " 1   Street                         10480 non-null  object\n",
      " 2   First Name                     10480 non-null  object\n",
      " 3   Surname                        10480 non-null  object\n",
      " 4   Age                            10480 non-null  int32 \n",
      " 5   Relationship to Head of House  10480 non-null  object\n",
      " 6   Marital Status                 10480 non-null  object\n",
      " 7   Gender                         10480 non-null  object\n",
      " 8   Occupation                     10480 non-null  object\n",
      " 9   Infirmity                      10480 non-null  object\n",
      " 10  Religion                       10480 non-null  object\n",
      " 11  Employed                       10480 non-null  object\n",
      "dtypes: int32(1), object(11)\n",
      "memory usage: 941.7+ KB\n"
     ]
    }
   ],
   "source": [
    "df.info()"
   ]
  },
  {
   "cell_type": "code",
   "execution_count": null,
   "id": "e9eab711",
   "metadata": {},
   "outputs": [],
   "source": []
  }
 ],
 "metadata": {
  "kernelspec": {
   "display_name": "Python 3 (ipykernel)",
   "language": "python",
   "name": "python3"
  },
  "language_info": {
   "codemirror_mode": {
    "name": "ipython",
    "version": 3
   },
   "file_extension": ".py",
   "mimetype": "text/x-python",
   "name": "python",
   "nbconvert_exporter": "python",
   "pygments_lexer": "ipython3",
   "version": "3.9.7"
  }
 },
 "nbformat": 4,
 "nbformat_minor": 5
}
